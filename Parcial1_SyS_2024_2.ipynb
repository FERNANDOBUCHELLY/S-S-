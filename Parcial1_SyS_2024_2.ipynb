{
  "nbformat": 4,
  "nbformat_minor": 0,
  "metadata": {
    "colab": {
      "private_outputs": true,
      "provenance": [],
      "include_colab_link": true
    },
    "kernelspec": {
      "name": "python3",
      "display_name": "Python 3"
    },
    "language_info": {
      "name": "python"
    }
  },
  "cells": [
    {
      "cell_type": "markdown",
      "metadata": {
        "id": "view-in-github",
        "colab_type": "text"
      },
      "source": [
        "<a href=\"https://colab.research.google.com/github/FERNANDOBUCHELLY/ejemplo/blob/main/Parcial1_SyS_2024_2.ipynb\" target=\"_parent\"><img src=\"https://colab.research.google.com/assets/colab-badge.svg\" alt=\"Open In Colab\"/></a>"
      ]
    },
    {
      "cell_type": "markdown",
      "source": [
        "# Parcial 1: Señales y Sistemas 2024-II\n",
        "\n",
        " ## Profesor: Andrés Marino Álvarez Meza, Ph.D.\n",
        "\n",
        "\n",
        "## Departamento de Ingeniería Eléctrica, Electrónica, y Computación\n",
        "## Universidad Nacional de Colombia - sede Manizales"
      ],
      "metadata": {
        "id": "1fWMHXCqNtQw"
      }
    },
    {
      "cell_type": "markdown",
      "source": [
        "# Instrucciones\n",
        "\n",
        "-- Para recibir el crédito total, sus respuestas deben estar justificadas de manera clara, detallada y concreta, mostrando los procedimientos y razonamientos paso a paso.\n",
        "\n",
        "-- Está permitido el uso de herramientas de inteligencia artificial (IA). Si las utiliza, por favor declare explícitamente cómo fueron empleadas en la resolución de cada pregunta. Incluya los prompts (consultas) y las iteraciones realizadas con las IA durante el desarrollo del parcial.\n",
        "\n",
        "-- La entrega del parcial debe realizarse antes de las 23:59 del 5 de diciembre de 2024 al correo electrónico amalvarezme@unal.edu.co mediante un enlace de GitHub.\n",
        "\n",
        "-- Los códigos deben estar debidamente comentados en las celdas correspondientes y explicados en celdas de texto (markdown). Los códigos que no incluyan comentarios ni discusiones no serán considerados en la evaluación final."
      ],
      "metadata": {
        "id": "15xl7tLEP6YA"
      }
    },
    {
      "cell_type": "markdown",
      "source": [
        "# Pregunta 1 (valor 2.5 puntos)\n",
        "\n",
        "Cuál es la señal obtenida en tiempo discreto al utilizar un conversor análogo digital de 5 bits con frecuencia de muestreo de $5kHz$, entrada análoga de -3.3 a 3.3 [v], aplicado a la señal continua $x(t) = 0.3 \\cos(1000\\pi t-\\pi/4) +\n",
        "0.6 \\sin(2000\\pi t) + 0.1 \\cos(11000\\pi t-\\pi)$?. Realizar la simulación del proceso de digitalización incluyendo al menos 3 ciclos de la señal $x(t)$.\n",
        "\n",
        "En caso de que la digitalización no sea apropiada, diseñe e implemente un conversor adecuado para la señal estudiada. El convesor debe permitir configurar la cantidad de bits, rango de la entrada análoga y la frecuencia de muestreo, indicándole al usuario si dicha frecuencia es apropiada o no, y graficar la señal continua, discreta y digital."
      ],
      "metadata": {
        "id": "jmI0zzVMRLNx"
      }
    },
    {
      "cell_type": "code",
      "source": [
        "import numpy as np\n",
        "import matplotlib.pyplot as plt\n",
        "\n",
        "def x(t):\n",
        "  return 0.3*np.cos(1000*np.pi*t-np.pi/4) + 0.6*np.sin(2000*np.pi*t) + 0.1*np.cos(11000*np.pi*t-np.pi)\n",
        "\n",
        "fo = 5500\n",
        "fs = (2)*fo\n",
        "Ts = 1/fs\n",
        "To = 1/500\n",
        "\n",
        "# Define tv and y before using them\n",
        "tv = np.arange(0, 3*To, Ts)  # Vector de tiempo\n",
        "y = x(tv)\n",
        "\n",
        "# Definir la función my_ceropen (cero y pendiente)\n",
        "def my_ceropen(x, ymin=0, ymax=200):\n",
        "  xmax = max(x)\n",
        "  xmin = min(x)\n",
        "  m = (ymax - ymin) / (xmax - xmin)\n",
        "  c = ymin - m * xmin\n",
        "  yv = m * x + c\n",
        "  return yv\n",
        "\n",
        "  #cero y pendiente\n",
        "ycs = my_ceropen(y, ymin=-3.3,ymax=3.3)\n",
        "\n",
        "#número de bits y vector de cuantización\n",
        "nbits = 5\n",
        "rmin = -3.3\n",
        "rmax = 3.3\n",
        "ve = np.linspace(rmin,rmax,2**nbits) # (rmax-rmin)/(2^#bits - 1) -> si se quiere incluir rmin y rmax\n",
        "from scipy.spatial.distance import cdist\n",
        "# Función de cuantización\n",
        "def my_cuantizador(yn, vq):\n",
        "  dn = cdist(yn.reshape(-1, 1), vq.reshape(-1, 1))\n",
        "  ind = np.argmin(dn)\n",
        "  return vq[ind]\n",
        "\n",
        "# Cuantizar la señal\n",
        "yq = np.zeros_like(ycs)\n",
        "for i in range(len(ycs)):\n",
        "  yq[i] = my_cuantizador(ycs[i], ve)\n",
        "\n",
        "# Graficar\n",
        "plt.plot(tv, ycs, c='black', label='ycs') # Señal original\n",
        "plt.stem(tv, ycs, label='ycs_dis') # Señal discretizada\n",
        "plt.plot(tv, yq, c='y', marker='o', label='ydig', linewidth=2)  # Señal cuantificada\n",
        "# Mostrar niveles de cuantificación\n",
        "for v in ve:\n",
        "  plt.plot(tv,v*np.ones(len(tv)))\n",
        "plt.legend()\n",
        "plt.grid()\n",
        "plt.xlabel('t')\n",
        "plt.ylabel('Amplitud')\n",
        "plt.title('Señal Original, Discretizada y Cuantificada')\n",
        "plt.show()\n",
        "\n"
      ],
      "metadata": {
        "id": "xzM4uQEjgl0F"
      },
      "execution_count": null,
      "outputs": []
    },
    {
      "cell_type": "markdown",
      "source": [
        "# Pregunta 2 (valor 2.5 puntos)\n",
        "\n",
        "Se dispone de un sistema modelado como una \"caja negra\" (ver celdas de código). Su tarea es analizar y comprobar mediante simulaciones si el sistema cumple con las propiedades de linealidad e invariancia en el tiempo. En caso de que el sistema sea lineal e invariante con el tiempo, determine su respuesta al impulso y utilice esta respuesta para calcular la salida del sistema ante la siguiente señal:\n",
        "\n",
        "$x[n] = \\sin[100 \\pi n ] + \\sin[600 \\pi n]$"
      ],
      "metadata": {
        "id": "5Za-WbLpSele"
      }
    },
    {
      "cell_type": "code",
      "source": [
        "# cargar sistema\n",
        "FILEID = \"1J9rhh0wWHZSBd8XmWGt1ZpCsMDuoUFmm\"\n",
        "!wget --load-cookies /tmp/cookies.txt \"https://docs.google.com/uc?export=download&confirm=$(wget --quiet --save-cookies /tmp/cookies.txt --keep-session-cookies --no-check-certificate 'https://docs.google.com/uc?export=download&id='$FILEID -O- | sed -rn 's/.*confirm=([0-9A-Za-z_]+).*/\\1\\n/p')&id=\"$FILEID -O P1_model.zip && rm -rf /tmp/cookies.txt\n",
        "!unzip -o P1_model.zip\n",
        "!dir"
      ],
      "metadata": {
        "id": "6yJMMFK6zo5K"
      },
      "execution_count": null,
      "outputs": []
    },
    {
      "cell_type": "code",
      "source": [
        "import numpy as np\n",
        "import matplotlib.pyplot as plt\n",
        "import joblib\n",
        "from P1_model import system_\n",
        "from scipy.signal import firwin, freqz, lfilter, filtfilt\n",
        "\n",
        "#sistema pregunta 2\n",
        "my_system = system_.My_System()\n",
        "my_system.create_()\n",
        "fs = my_system.fs #frecuencia de muestreo\n",
        "t = np.arange(-0.01, 0.02, 1/fs)  # Tiempo\n",
        "signal_u = np.heaviside(t,1) # función heaviside\n",
        "y_u = my_system.predict(signal_u)\n",
        "\n",
        "\n",
        "# Visualización de las señales\n",
        "fig, axs = plt.subplots(2,1)\n",
        "axs[0].stem(t, signal_u, label='Señal de entrada')\n",
        "axs[0].set_xlabel('Tiempo (s)')\n",
        "axs[0].set_ylabel('Amplitud')\n",
        "axs[0].legend()\n",
        "axs[0].grid()\n",
        "axs[1].stem(t,y_u, label='Señal salida')\n",
        "axs[1].set_xlabel('Tiempo (s)')\n",
        "axs[1].set_ylabel('Amplitud')\n",
        "axs[1].legend()\n",
        "axs[1].grid()\n",
        "plt.tight_layout()\n",
        "plt.show()"
      ],
      "metadata": {
        "id": "nUX7Vr1fTUYW"
      },
      "execution_count": null,
      "outputs": []
    },
    {
      "cell_type": "code",
      "source": [
        "y_ax = my_system.predict(signal_u) + my_system.predict(5 * signal_u)  # Se suman señales para comprobar superposición\n",
        "signal_k = np.heaviside(t - 0.01, 1)  # Se traslada la entrada para ver si traslada la salida\n",
        "y_k = my_system.predict(signal_k)\n",
        "\n",
        "# Verificar si el sistema es lineal\n",
        "y_ax_pred = my_system.predict(signal_u + 5 * signal_u)  # Salida esperada para la suma de señales\n",
        "lineal = np.allclose(y_ax, y_ax_pred)  # Verificar si y_ax coincide con y_ax_pred\n",
        "\n",
        "# Graficar los resultados\n",
        "fig, axs = plt.subplots(2, 1)\n",
        "axs[0].stem(t, y_ax, label='Propiedad de superposición')\n",
        "axs[0].set_xlabel('Tiempo (s)')\n",
        "axs[0].set_ylabel('Amplitud')\n",
        "axs[0].legend()\n",
        "axs[0].grid()\n",
        "axs[1].stem(t, y_k, label='Propiedad de traslación')\n",
        "axs[1].set_xlabel('Tiempo (s)')\n",
        "axs[1].set_ylabel('Amplitud')\n",
        "axs[1].legend()\n",
        "axs[1].grid()\n",
        "plt.tight_layout()\n",
        "plt.show()\n",
        "\n",
        "# Imprimir resultado de linealidad\n",
        "print(f\"¿Es lineal (cumple superposición)? {'Sí' if lineal else 'No'}\")\n"
      ],
      "metadata": {
        "id": "yHPCIqg-lShZ"
      },
      "execution_count": null,
      "outputs": []
    },
    {
      "cell_type": "code",
      "source": [
        "# Verificar invariancia en el tiempo\n",
        "signal_k = np.heaviside(t - 0.01, 1)  # Señal Heaviside desplazada en el tiempo\n",
        "y_k = my_system.predict(signal_k)  # Salida del sistema para la señal desplazada\n",
        "y_expected = np.roll(my_system.predict(signal_u), int(0.01 * fs))  # Salida esperada desplazada\n",
        "\n",
        "# Comparar salida real vs salida esperada para determinar invariancia\n",
        "invariante = np.allclose(y_k, y_expected)  # True si coinciden\n",
        "\n",
        "# Graficar los resultados\n",
        "fig, axs = plt.subplots(2, 1)\n",
        "axs[0].stem(t, my_system.predict(signal_u), label='Salida original (no desplazada)')\n",
        "axs[0].set_xlabel('Tiempo (s)')\n",
        "axs[0].set_ylabel('Amplitud')\n",
        "axs[0].legend()\n",
        "axs[0].grid()\n",
        "axs[1].stem(t, y_k, label='Salida desplazada (real)')\n",
        "axs[1].plot(t, y_expected, '--', label='Salida desplazada (esperada)', color='r')  # Línea discontinua para comparación\n",
        "axs[1].set_xlabel('Tiempo (s)')\n",
        "axs[1].set_ylabel('Amplitud')\n",
        "axs[1].legend()\n",
        "axs[1].grid()\n",
        "plt.tight_layout()\n",
        "plt.show()\n",
        "\n",
        "# Imprimir resultado de invariancia\n",
        "print(f\"¿Es invariante en el tiempo? {'Sí' if invariante else 'No'}\")\n"
      ],
      "metadata": {
        "id": "2szG_5BxmPgD"
      },
      "execution_count": null,
      "outputs": []
    },
    {
      "cell_type": "code",
      "source": [
        "# Calcular la respuesta al impulso\n",
        "delta = np.zeros_like(t)  # Crear una señal delta (impulso unitario)\n",
        "idx_zero = np.argmin(np.abs(t))  # Encontrar el índice más cercano a t=0\n",
        "delta[idx_zero] = 1  # Colocar el impulso en el tiempo cero\n",
        "h = my_system.predict(delta)  # Obtener la respuesta al impulso del sistema\n",
        "\n",
        "# Graficar la respuesta al impulso\n",
        "plt.figure(figsize=(8, 5))\n",
        "plt.stem(t, h, label='Respuesta al impulso h[n]')\n",
        "plt.xlabel('Tiempo (s)')\n",
        "plt.ylabel('Amplitud')\n",
        "plt.title('Respuesta al Impulso del Sistema')\n",
        "plt.legend()\n",
        "plt.grid()\n",
        "plt.tight_layout()\n",
        "plt.show()\n"
      ],
      "metadata": {
        "id": "dfT4W2syoZqX"
      },
      "execution_count": null,
      "outputs": []
    },
    {
      "cell_type": "code",
      "source": [
        "# Definir la señal de entrada x[n]\n",
        "n = np.arange(len(t))  # Define n como una matriz de indice en el tiempo\n",
        "x_n = np.sin(100 * np.pi * n / fs) + np.sin(600 * np.pi * n / fs)  # La señal x[n] = sin(100πn) + sin(600πn)\n",
        "\n",
        "# Realizar la convolución\n",
        "y_convolucion = np.convolve(x_n, h, mode='same')  # 'same' para obtener la salida con el mismo tamaño que x[n]\n",
        "\n",
        "# Graficar los resultados\n",
        "plt.figure(figsize=(8, 5))\n",
        "plt.plot(t, y_convolucion, label='Salida de la convolución')\n",
        "plt.xlabel('Tiempo (s)')\n",
        "plt.ylabel('Amplitud')\n",
        "plt.title('Salida del Sistema utilizando Convolución')\n",
        "plt.legend()\n",
        "plt.grid()\n",
        "plt.tight_layout()\n",
        "plt.show()\n"
      ],
      "metadata": {
        "id": "bbw36KxcourG"
      },
      "execution_count": null,
      "outputs": []
    }
  ]
}