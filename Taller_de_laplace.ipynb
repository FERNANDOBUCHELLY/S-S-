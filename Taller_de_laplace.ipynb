{
  "nbformat": 4,
  "nbformat_minor": 0,
  "metadata": {
    "colab": {
      "provenance": [],
      "include_colab_link": true
    },
    "kernelspec": {
      "display_name": "Python 3",
      "language": "python",
      "name": "python3"
    },
    "language_info": {
      "codemirror_mode": {
        "name": "ipython",
        "version": 3
      },
      "file_extension": ".py",
      "mimetype": "text/x-python",
      "name": "python",
      "nbconvert_exporter": "python",
      "pygments_lexer": "ipython3",
      "version": "3.7.1"
    }
  },
  "cells": [
    {
      "cell_type": "markdown",
      "metadata": {
        "id": "view-in-github",
        "colab_type": "text"
      },
      "source": [
        "<a href=\"https://colab.research.google.com/github/FERNANDOBUCHELLY/ejemplo/blob/main/Taller_de_laplace.ipynb\" target=\"_parent\"><img src=\"https://colab.research.google.com/assets/colab-badge.svg\" alt=\"Open In Colab\"/></a>"
      ]
    },
    {
      "cell_type": "markdown",
      "source": [
        "UNIVERSIDAD NACIONAL DE COLOMBIA\n",
        "\n",
        "***TALLER LAPLACE:***\n",
        "\n",
        "LUIS FERNANDO CASTRO BUCHELLY\n",
        "\n",
        "c.c. 1122786100"
      ],
      "metadata": {
        "id": "Mw7LN0kCSZmm"
      }
    },
    {
      "cell_type": "markdown",
      "metadata": {
        "id": "K7eH5_ea7k2Q"
      },
      "source": [
        "## Análisis de un péndulo elástico amortiguado\n",
        "\n",
        "- El [péndulo elástico](https://en.wikipedia.org/wiki/Spring_pendulum) amortiguado es un ejemplo de un sistema mecánico que puede ser modelado por una ecuación diferencial ordinaria lineal (EDO) con coeficientes constantes.\n",
        "\n",
        "- Desde el punto de vista de la teoría de señales y sistemas, puede ser interpretado como un sistema lineal invariante en el tiempo (SLIT).\n",
        "\n",
        "- Las propiedades mecánicas del péndulo elástico amortiguado se analizan utilizando la teoría de los SLIT. La configuración mecánica subyacente se muestra en la siguiente figura:\n",
        "\n",
        "![Péndulo Elástico Amortiguado](https://github.com/amalvarezme/SenalesSistemas/blob/master/4_Transformada_Laplace/damped_spring.png?raw=1)\n",
        "\n",
        "- Un cuerpo rígido de masa $m$ está montado sobre un resorte con rigidez $k$ que está conectado al suelo.\n",
        "\n",
        "- Un amortiguador con un coeficiente de amortiguamiento $c$ se monta paralelo al resorte para modelar la fricción presente en el sistema.\n",
        "\n",
        "- Se asume que el movimiento de la masa a lo largo del tiempo está restringido al eje vertical, aquí indicado por $y$. Además, se asume que la masa no se mueve para $ t <0 $.\n",
        "\n",
        "- Denotando el desplazamiento de la masa con respecto al tiempo con $y(t)$, las condiciones iniciales se formulan como $y(t)=0$ y $\\frac{d y(t)}{dt}=0$ para $t<0$.\n",
        "\n",
        "- Se utilizarán los siguientes valores $m = 0.1$,  $c = 0.1$ y $k = 2.5$ para ilustrar de manera más sencilla el siguiente ejemplo."
      ]
    },
    {
      "cell_type": "markdown",
      "metadata": {
        "id": "LujI96aT7k2T"
      },
      "source": [
        "### Ecuación diferencial\n",
        "\n",
        "La ecuación diferencia del sistema mecánico se obtiene al considerar el equilibrio de fuerzas ejercidas sobre la masa:\n",
        "\n",
        "\\begin{equation}\n",
        "F_\\text{S}(t) + F_\\text{F}(t) + F_\\text{I}(t) = F_\\text{E}(t)\n",
        "\\end{equation}\n",
        "\n",
        "Donde $F_\\text{E}(t) $ denota una fuerza externa que actúa sobre la masa. La fuerza $F_\\text{S}(t)$ inducida por el resorte está dada por la [ley de Hooke](https://en.wikipedia.org/wiki/Hooke%27s_law)\n",
        "\n",
        "\\begin{equation}\n",
        "F_\\text{S}(t) = k y(t)\n",
        "\\end{equation}\n",
        "\n",
        "Es común modelar la fuerza de fricción $F_\\text{F}(t)$ inducida por el amortiguador de manera proporcional a la velocidad de la masa\n",
        "\n",
        "\\begin{equation}\n",
        "F_\\text{F}(t) = c \\frac{d y(t)}{dt}\n",
        "\\end{equation}\n",
        "\n",
        "La fuerza inercial $F_\\text{I}(t)$ debida a la aceleración de la masa se da como\n",
        "\n",
        "\\begin{equation}\n",
        "F_\\text{I}(t) = m \\frac{d^2 y(t)}{dt^2}\n",
        "\\end{equation}\n",
        "\n",
        "Al introducir las fuerzas anteriormente halladas en el equilibrio de fuerzas se obtiene la ecuación diferencial que describe el desplazamiento del péndulo elástico amortiguado\n",
        "\n",
        "\\begin{equation}\n",
        "m \\frac{d^2 y(t)}{dt^2} + c \\frac{d y(t)}{dt} + k y(t) = F_\\text{E}(t)\n",
        "\\end{equation}\n",
        "\n",
        "Como consecuencia de la fuerza externa.\n",
        "\n",
        "La ecuación anterior constituye una EDO con coeficientes constantes. Puede interpretarse como un SLTI con la fuerza externa $x(t)=F_\\text{E}(t)$ como señal de entrada y el desplazamiento de la masa como la señal de salida $y(t)$."
      ]
    },
    {
      "cell_type": "markdown",
      "metadata": {
        "id": "98coA2j47k2W"
      },
      "source": [
        "### Comparación con la red eléctrica\n",
        "\n",
        "Comparando las EDO del péndulo elástico amortiguado y el circuito RLC, se tiene que ambos constituyen una EDO de segundo orden con coeficientes constantes.\n",
        "\n",
        "La división de la EDO del circuito por la constante $C$ resulta en:\n",
        "\n",
        "\\begin{equation}\n",
        "L \\frac{d^2 u_\\text{o}(t)}{dt^2} + R \\frac{d u_\\text{o}(t)}{dt} + \\frac{1}{C} u_\\text{o}(t) = \\frac{1}{C} u_\\text{i}(t)\n",
        "\\end{equation}\n",
        "\n",
        "Donde $u_\\text{i}(t)$ y $u_\\text{o}(t)$ denotan el voltaje de entrada y salida del circuito respesctivamente.\n",
        "\n",
        "La comparación de la EDO anterior con la del péndulo elástico amortiguado produce [equivalencia entre sistemas](https://en.wikipedia.org/wiki/System_equivalence) así:\n",
        "\n",
        "|                         | Circuito RLC | Péndulo elástico                          |\n",
        "|-------------------------|------------------------------------|-------------------------------------------|\n",
        "| Señal de entrada $x(t)$ | $u_\\text{i}(t) = F_\\text{E}(t) C$  | $F_\\text{E}(t) = \\frac{u_\\text{i}(t)}{C}$ |\n",
        "| Señal de salida $y(t)$  | $u_\\text{o}(t)$                    | $y(t)$                                    |\n",
        "|                         | $L=m$                              | $m=L$                                     |\n",
        "|                         | $R=c$                              | $c=R$                                     |\n",
        "|                         | $C=\\frac{1}{k}$                    | $k=\\frac{1}{C}$                           |"
      ]
    },
    {
      "cell_type": "markdown",
      "metadata": {
        "id": "45ywl0jG7k2Z"
      },
      "source": [
        "### Respuesta al Impulso\n",
        "\n",
        "El SLIT correspondiente al péndulo puede ser caracterizado por su respuesta al impulso $h(t)$. Se define como la salida del sistema ante una entra $x(t) = \\delta(t)$ en la entrada. La respuesta al impulso caracteriza el movimiento $y(t)$ de la masa ante un evento.\n",
        "\n",
        "Primero, se define la EDO del péndulo elástico amortiguado con `SymPy`"
      ]
    },
    {
      "cell_type": "code",
      "metadata": {
        "colab": {
          "base_uri": "https://localhost:8080/",
          "height": 54
        },
        "id": "9hIv-Tl-7k2b",
        "outputId": "2de2ee35-1e07-406c-aafa-6daa292e592c"
      },
      "source": [
        "%matplotlib inline\n",
        "import sympy as sym\n",
        "sym.init_printing()\n",
        "\n",
        "t, m, c, k = sym.symbols('t m c k', real=True)\n",
        "x = sym.Function('x')(t)\n",
        "y = sym.Function('y')(t)\n",
        "\n",
        "ode = sym.Eq(m*y.diff(t, 2) + c*y.diff(t) + k*y, x)\n",
        "ode"
      ],
      "execution_count": 161,
      "outputs": [
        {
          "output_type": "execute_result",
          "data": {
            "text/plain": [
              "                         2              \n",
              "  d                     d               \n",
              "c⋅──(y(t)) + k⋅y(t) + m⋅───(y(t)) = x(t)\n",
              "  dt                      2             \n",
              "                        dt              "
            ],
            "text/latex": "$\\displaystyle c \\frac{d}{d t} y{\\left(t \\right)} + k y{\\left(t \\right)} + m \\frac{d^{2}}{d t^{2}} y{\\left(t \\right)} = x{\\left(t \\right)}$"
          },
          "metadata": {},
          "execution_count": 161
        }
      ]
    },
    {
      "cell_type": "markdown",
      "metadata": {
        "id": "6Q8fhKUT7k2q"
      },
      "source": [
        "Se guardan los valores de las constantes en un diccionario para posteriores sustituciones"
      ]
    },
    {
      "cell_type": "code",
      "metadata": {
        "colab": {
          "base_uri": "https://localhost:8080/",
          "height": 58
        },
        "id": "OQg6lok37k2s",
        "outputId": "6eb0eb78-7996-4c26-fff9-ead057e58ec0"
      },
      "source": [
        "mck = {m: 0.1, c: sym.Rational('.1'), k: sym.Rational('2.5')}\n",
        "mck"
      ],
      "execution_count": 162,
      "outputs": [
        {
          "output_type": "execute_result",
          "data": {
            "text/plain": [
              "{c: 1/10, k: 5/2, m: 0.1}"
            ],
            "text/latex": "$\\displaystyle \\left\\{ c : \\frac{1}{10}, \\  k : \\frac{5}{2}, \\  m : 0.1\\right\\}$"
          },
          "metadata": {},
          "execution_count": 162
        }
      ]
    },
    {
      "cell_type": "markdown",
      "metadata": {
        "id": "mol_ZwPs7k21"
      },
      "source": [
        "La respuesta al impulso se calcula al resolver la EDO"
      ]
    },
    {
      "cell_type": "code",
      "metadata": {
        "colab": {
          "base_uri": "https://localhost:8080/",
          "height": 71
        },
        "id": "k7dmJ1Os7k23",
        "outputId": "16237727-d53b-408b-b01d-5b420cd7d169"
      },
      "source": [
        "solution_h = sym.dsolve(ode.subs(x, sym.DiracDelta(t)).subs(y, sym.Function('h')(t)))\n",
        "solution_h"
      ],
      "execution_count": 163,
      "outputs": [
        {
          "output_type": "execute_result",
          "data": {
            "text/plain": [
              "                                                                         ⎛        ____________⎞    ↪\n",
              "             ⎛        ____________⎞          ⎛       ____________⎞       ⎜       ╱  2         ⎟    ↪\n",
              "             ⎜       ╱  2         ⎟          ⎜      ╱  2         ⎟     t⋅⎝-c + ╲╱  c  - 4⋅k⋅m ⎠    ↪\n",
              "           t⋅⎝-c + ╲╱  c  - 4⋅k⋅m ⎠       -t⋅⎝c + ╲╱  c  - 4⋅k⋅m ⎠     ────────────────────────    ↪\n",
              "           ────────────────────────       ─────────────────────────              2⋅m               ↪\n",
              "                     2⋅m                             2⋅m              ℯ                        ⋅θ( ↪\n",
              "h(t) = C₁⋅ℯ                         + C₂⋅ℯ                          + ──────────────────────────── ↪\n",
              "                                                                                ____________       ↪\n",
              "                                                                               ╱  2                ↪\n",
              "                                                                             ╲╱  c  - 4⋅k⋅m        ↪\n",
              "\n",
              "↪          ⎛       ____________⎞      \n",
              "↪          ⎜      ╱  2         ⎟      \n",
              "↪       -t⋅⎝c + ╲╱  c  - 4⋅k⋅m ⎠      \n",
              "↪       ─────────────────────────     \n",
              "↪                  2⋅m                \n",
              "↪ t)   ℯ                         ⋅θ(t)\n",
              "↪ ── - ───────────────────────────────\n",
              "↪                 ____________        \n",
              "↪                ╱  2                 \n",
              "↪              ╲╱  c  - 4⋅k⋅m         "
            ],
            "text/latex": "$\\displaystyle h{\\left(t \\right)} = C_{1} e^{\\frac{t \\left(- c + \\sqrt{c^{2} - 4 k m}\\right)}{2 m}} + C_{2} e^{- \\frac{t \\left(c + \\sqrt{c^{2} - 4 k m}\\right)}{2 m}} + \\frac{e^{\\frac{t \\left(- c + \\sqrt{c^{2} - 4 k m}\\right)}{2 m}} \\theta\\left(t\\right)}{\\sqrt{c^{2} - 4 k m}} - \\frac{e^{- \\frac{t \\left(c + \\sqrt{c^{2} - 4 k m}\\right)}{2 m}} \\theta\\left(t\\right)}{\\sqrt{c^{2} - 4 k m}}$"
          },
          "metadata": {},
          "execution_count": 163
        }
      ]
    },
    {
      "cell_type": "markdown",
      "metadata": {
        "id": "iAwXOyCd7k3C"
      },
      "source": [
        "Las constantes de integración $C_1$ y $C_2$ se determinan a partir de las condiciones iniciales $y(t) = 0$ y $\\frac{d y(t)}{dt}=0$ para $t<0$."
      ]
    },
    {
      "cell_type": "code",
      "metadata": {
        "colab": {
          "base_uri": "https://localhost:8080/",
          "height": 38
        },
        "id": "WOiIJDqA7k3E",
        "outputId": "113efa8e-1928-4b83-f629-51485b83e9ec"
      },
      "source": [
        "integration_constants = sym.solve( (solution_h.rhs.limit(t, 0, '-'), solution_h.rhs.diff(t).limit(t, 0, '-')), ['C1', 'C2'] )\n",
        "integration_constants"
      ],
      "execution_count": 164,
      "outputs": [
        {
          "output_type": "execute_result",
          "data": {
            "text/plain": [
              "{C₁: 0, C₂: 0}"
            ],
            "text/latex": "$\\displaystyle \\left\\{ C_{1} : 0, \\  C_{2} : 0\\right\\}$"
          },
          "metadata": {},
          "execution_count": 164
        }
      ]
    },
    {
      "cell_type": "markdown",
      "metadata": {
        "id": "aY7TZjU27k3N"
      },
      "source": [
        "La sustitución de los valores de las constantes de integración $C_1$ y $C_2$ en el resultado anterior, produce la respuesta al impulso del sistema mecánico"
      ]
    },
    {
      "cell_type": "code",
      "metadata": {
        "colab": {
          "base_uri": "https://localhost:8080/",
          "height": 71
        },
        "id": "BvMdOUkj7k3P",
        "outputId": "3636c10f-922f-489f-bb3d-0d9f5ef72911"
      },
      "source": [
        "h = solution_h.subs(integration_constants)\n",
        "h"
      ],
      "execution_count": 165,
      "outputs": [
        {
          "output_type": "execute_result",
          "data": {
            "text/plain": [
              "          ⎛        ____________⎞            ⎛       ____________⎞      \n",
              "          ⎜       ╱  2         ⎟            ⎜      ╱  2         ⎟      \n",
              "        t⋅⎝-c + ╲╱  c  - 4⋅k⋅m ⎠         -t⋅⎝c + ╲╱  c  - 4⋅k⋅m ⎠      \n",
              "        ────────────────────────         ─────────────────────────     \n",
              "                  2⋅m                               2⋅m                \n",
              "       ℯ                        ⋅θ(t)   ℯ                         ⋅θ(t)\n",
              "h(t) = ────────────────────────────── - ───────────────────────────────\n",
              "                 ____________                      ____________        \n",
              "                ╱  2                              ╱  2                 \n",
              "              ╲╱  c  - 4⋅k⋅m                    ╲╱  c  - 4⋅k⋅m         "
            ],
            "text/latex": "$\\displaystyle h{\\left(t \\right)} = \\frac{e^{\\frac{t \\left(- c + \\sqrt{c^{2} - 4 k m}\\right)}{2 m}} \\theta\\left(t\\right)}{\\sqrt{c^{2} - 4 k m}} - \\frac{e^{- \\frac{t \\left(c + \\sqrt{c^{2} - 4 k m}\\right)}{2 m}} \\theta\\left(t\\right)}{\\sqrt{c^{2} - 4 k m}}$"
          },
          "metadata": {},
          "execution_count": 165
        }
      ]
    },
    {
      "cell_type": "markdown",
      "metadata": {
        "id": "jVWDPU6W7k3Z"
      },
      "source": [
        "Se grafica la respuesta para los valores de $m$, $c$ y $k$ definidas anteriormente"
      ]
    },
    {
      "cell_type": "code",
      "metadata": {
        "colab": {
          "base_uri": "https://localhost:8080/",
          "height": 487
        },
        "id": "_gA-N1v47k3b",
        "outputId": "4429315d-9bea-4826-e910-6ea615dcd054"
      },
      "source": [
        "sym.plot(h.rhs.subs(mck), (t,0,12), ylabel=r'h(t)');"
      ],
      "execution_count": 166,
      "outputs": [
        {
          "output_type": "display_data",
          "data": {
            "text/plain": [
              "<Figure size 640x480 with 1 Axes>"
            ],
            "image/png": "[encoded data removed]"
          },
          "metadata": {}
        }
      ]
    },
    {
      "cell_type": "markdown",
      "metadata": {
        "id": "RBSU-Q3l7k3m"
      },
      "source": [
        "### Función de Transferencia\n",
        "\n",
        "Para una señal exponencial de entrada $x(t)=e^{st}$, la función de transferencia $H(s)$ representa el peso de la entrada, tal que $y(t) = H(s) \\cdot e^{s t}$. La función de transferencia se obtiene al introducir $x(t)$ y $y(t)$ en la EDO y resolver para $H(s)$"
      ]
    },
    {
      "cell_type": "code",
      "metadata": {
        "colab": {
          "base_uri": "https://localhost:8080/",
          "height": 52
        },
        "id": "8SK-CphO7k3o",
        "outputId": "a0c080c9-25b9-4940-cd34-33026709045f"
      },
      "source": [
        "s = sym.symbols('s')\n",
        "H = sym.Function('H')(s)\n",
        "\n",
        "H, = sym.solve(ode.subs(x, sym.exp(s*t)).subs(y, H*sym.exp(s*t)).doit(), H)\n",
        "H"
      ],
      "execution_count": 167,
      "outputs": [
        {
          "output_type": "execute_result",
          "data": {
            "text/plain": [
              "      1       \n",
              "──────────────\n",
              "             2\n",
              "c⋅s + k + m⋅s "
            ],
            "text/latex": "$\\displaystyle \\frac{1}{c s + k + m s^{2}}$"
          },
          "metadata": {},
          "execution_count": 167
        }
      ]
    },
    {
      "cell_type": "markdown",
      "metadata": {
        "id": "DxCLfu7e7k3v"
      },
      "source": [
        "Las características de transferencia de un SLIT para señales exponenciales armónicas $e^{j\\omega}=\\cos(\\omega t)+j\\sin(\\omega t)$ son de especial interés en el análisis de sistemas resonantes.\n",
        "\n",
        "Se pueden derivar de $H(s)$ sustituyendo la frecuencia compleja $s$ por $s=j\\omega$. La función de transferencia resultante $H(j\\omega)$ proporciona la atenuación y la fase que el sistema agrega a una señal de entrada armónica."
      ]
    },
    {
      "cell_type": "code",
      "metadata": {
        "colab": {
          "base_uri": "https://localhost:8080/",
          "height": 52
        },
        "id": "M71QaIcm7k3w",
        "outputId": "b0c0386a-dd4d-46d1-fb35-e4cfb20f6f9f"
      },
      "source": [
        "w = sym.symbols('omega', real=True)\n",
        "\n",
        "Hjw = H.subs(s, sym.I * w)\n",
        "Hjw"
      ],
      "execution_count": 168,
      "outputs": [
        {
          "output_type": "execute_result",
          "data": {
            "text/plain": [
              "       1        \n",
              "────────────────\n",
              "               2\n",
              "ⅈ⋅c⋅ω + k - m⋅ω "
            ],
            "text/latex": "$\\displaystyle \\frac{1}{i c \\omega + k - m \\omega^{2}}$"
          },
          "metadata": {},
          "execution_count": 168
        }
      ]
    },
    {
      "cell_type": "markdown",
      "metadata": {
        "id": "8b87wEpL7k34"
      },
      "source": [
        "La magnitud de la función de transferencia $|H(j\\omega)|$ se grafica para los valores de los parámetros dados anteriormente"
      ]
    },
    {
      "cell_type": "code",
      "metadata": {
        "id": "HiYpg_Vd7k36",
        "outputId": "2a46da38-7814-4f4e-8dac-a54c599b5823",
        "colab": {
          "base_uri": "https://localhost:8080/",
          "height": 485
        }
      },
      "source": [
        "sym.plot(abs(Hjw.subs(mck)), (w, -15, 15), ylabel=r'$|H(j \\omega)|$', xlabel=r'$\\omega$');"
      ],
      "execution_count": 169,
      "outputs": [
        {
          "output_type": "display_data",
          "data": {
            "text/plain": [
              "<Figure size 640x480 with 1 Axes>"
            ],
            "image/png": "[encoded data removed]"
          },
          "metadata": {}
        }
      ]
    },
    {
      "cell_type": "markdown",
      "metadata": {
        "id": "U82rDJ-J7k4B"
      },
      "source": [
        "Al inspeccionar la magnitud de la función de transferencia, se hace evidente que el péndulo del resorte amortiguado muestra resonancias (picos máximos) para dos frecuencias angulares específicas. Estas frecuencias de resonancia $\\omega_0$ se calculan desde los valores extremos de $|H(j\\omega)|$. Primero se calcula la derivada de $|H(j\\omega)|$ con respecto a $\\omega$ y luego se igual a cero"
      ]
    },
    {
      "cell_type": "code",
      "metadata": {
        "colab": {
          "base_uri": "https://localhost:8080/",
          "height": 81
        },
        "id": "JS9oWlIZ7k4D",
        "outputId": "266e41ab-d0ed-460c-d2ec-29792db9d1ea"
      },
      "source": [
        "extrema = sym.solve(sym.Eq(sym.diff(abs(Hjw), w),0),w)\n",
        "extrema"
      ],
      "execution_count": 170,
      "outputs": [
        {
          "output_type": "execute_result",
          "data": {
            "text/plain": [
              "⎡         ____________        ____________⎤\n",
              "⎢        ╱    2              ╱    2       ⎥\n",
              "⎢       ╱    c              ╱    c        ⎥\n",
              "⎢   -  ╱   - ── + k⋅m      ╱   - ── + k⋅m ⎥\n",
              "⎢    ╲╱      2           ╲╱      2        ⎥\n",
              "⎢0, ───────────────────, ─────────────────⎥\n",
              "⎣            m                   m        ⎦"
            ],
            "text/latex": "$\\displaystyle \\left[ 0, \\  - \\frac{\\sqrt{- \\frac{c^{2}}{2} + k m}}{m}, \\  \\frac{\\sqrt{- \\frac{c^{2}}{2} + k m}}{m}\\right]$"
          },
          "metadata": {},
          "execution_count": 170
        }
      ]
    },
    {
      "cell_type": "markdown",
      "metadata": {
        "id": "BUr9MQz17k4L"
      },
      "source": [
        "Para los máximos de la función de transferencia solo es de interés el segundo y el tercer extremo"
      ]
    },
    {
      "cell_type": "code",
      "metadata": {
        "colab": {
          "base_uri": "https://localhost:8080/",
          "height": 81
        },
        "id": "SY5BAevS7k4N",
        "outputId": "d3e9719d-0dab-418a-e5b7-2cbd61c3181b"
      },
      "source": [
        "w0 = extrema[1:3]\n",
        "w0"
      ],
      "execution_count": 171,
      "outputs": [
        {
          "output_type": "execute_result",
          "data": {
            "text/plain": [
              "⎡      ____________        ____________⎤\n",
              "⎢     ╱    2              ╱    2       ⎥\n",
              "⎢    ╱    c              ╱    c        ⎥\n",
              "⎢-  ╱   - ── + k⋅m      ╱   - ── + k⋅m ⎥\n",
              "⎢ ╲╱      2           ╲╱      2        ⎥\n",
              "⎢───────────────────, ─────────────────⎥\n",
              "⎣         m                   m        ⎦"
            ],
            "text/latex": "$\\displaystyle \\left[ - \\frac{\\sqrt{- \\frac{c^{2}}{2} + k m}}{m}, \\  \\frac{\\sqrt{- \\frac{c^{2}}{2} + k m}}{m}\\right]$"
          },
          "metadata": {},
          "execution_count": 171
        }
      ]
    },
    {
      "cell_type": "markdown",
      "metadata": {
        "id": "3z6o5V4w7k4W"
      },
      "source": [
        "Las frecuencias de resonancia se calculan para los valores de $m$, $c$ y $k$ dados anteriormente"
      ]
    },
    {
      "cell_type": "code",
      "metadata": {
        "colab": {
          "base_uri": "https://localhost:8080/",
          "height": 37
        },
        "id": "h0iYkA-W7k4X",
        "outputId": "e35577a4-586c-465d-db88-72aaead91a96"
      },
      "source": [
        "[w00.subs(mck) for w00 in w0]"
      ],
      "execution_count": 172,
      "outputs": [
        {
          "output_type": "execute_result",
          "data": {
            "text/plain": [
              "[-4.94974746830583, 4.94974746830583]"
            ],
            "text/latex": "$\\displaystyle \\left[ -4.94974746830583, \\  4.94974746830583\\right]$"
          },
          "metadata": {},
          "execution_count": 172
        }
      ]
    },
    {
      "cell_type": "markdown",
      "metadata": {
        "id": "BiebSBR67k4c"
      },
      "source": [
        "La fase de la función de transferencia $\\varphi (j\\omega)$ se calcula y grafica para los valores específicos de los elementos dados anteriormente"
      ]
    },
    {
      "cell_type": "code",
      "metadata": {
        "colab": {
          "base_uri": "https://localhost:8080/",
          "height": 487
        },
        "id": "rzvMK_Qh7k4d",
        "outputId": "20126c63-e22e-4fcc-d18b-393ed68db2db"
      },
      "source": [
        "phi = sym.arg(Hjw)\n",
        "sym.plot(phi.subs(mck), (w, -15, 15), ylabel=r'$\\varphi(j \\omega)$', xlabel=r'$\\omega$');"
      ],
      "execution_count": 173,
      "outputs": [
        {
          "output_type": "display_data",
          "data": {
            "text/plain": [
              "<Figure size 640x480 with 1 Axes>"
            ],
            "image/png": "[encoded data removed]"
          },
          "metadata": {}
        }
      ]
    },
    {
      "cell_type": "markdown",
      "source": [
        "**PUNTO 2 Y 3**\n",
        "\n",
        "Solución de SLIT segundo orden forma canónica utilizando transformada de Laplace en Sympy\n",
        "\n",
        "\n",
        "\n"
      ],
      "metadata": {
        "id": "2Ak-EeuOS2HP"
      }
    },
    {
      "cell_type": "code",
      "source": [
        "!pip install sympy --upgrade #actualizar sympy para usar módulo de control"
      ],
      "metadata": {
        "colab": {
          "base_uri": "https://localhost:8080/"
        },
        "id": "eyjDelgDS6AJ",
        "outputId": "290807ea-11ec-4b49-f615-0c0efd9b0b73"
      },
      "execution_count": 174,
      "outputs": [
        {
          "output_type": "stream",
          "name": "stdout",
          "text": [
            "Requirement already satisfied: sympy in /usr/local/lib/python3.11/dist-packages (1.13.3)\n",
            "Requirement already satisfied: mpmath<1.4,>=1.1.0 in /usr/local/lib/python3.11/dist-packages (from sympy) (1.3.0)\n"
          ]
        }
      ]
    },
    {
      "cell_type": "code",
      "source": [
        "import sympy as sym\n",
        "import matplotlib.pyplot as plt\n",
        "import numpy as np\n",
        "sym.init_printing()\n",
        "\n",
        "s = sym.symbols('s', complex=True)\n",
        "t,R, L, C = sym.symbols('t R L C', positive=True, real=True)\n",
        "K = 1 #ganncia estatica\n",
        "#Entrada de interés en Laplace\n",
        "X = 1/s # X(s) = 1 Respuesta entrada al escalon;\n",
        "#Forma canónica -> resolver según sistema propuesto\n",
        "wn = 1/sym.sqrt(L*C) #frecuencia natural\n",
        "xi = (R/2)*(sym.sqrt(C/L)) #factor amortiguamiento\n",
        "H = (1/(s**2 + 2*xi*wn*s + 1)) #función de transferencia en lazo cerrado slit 2 orden\n",
        "#Hlc = H/(1+H) #para lazo cerrado\n",
        "H"
      ],
      "metadata": {
        "colab": {
          "base_uri": "https://localhost:8080/",
          "height": 58
        },
        "id": "jPAtDO24TRt3",
        "outputId": "d5b2609b-91ae-46d0-f04b-595bf3893ce0"
      },
      "execution_count": 175,
      "outputs": [
        {
          "output_type": "execute_result",
          "data": {
            "text/plain": [
              "     1      \n",
              "────────────\n",
              " 2       R⋅s\n",
              "s  + 1 + ───\n",
              "          L "
            ],
            "text/latex": "$\\displaystyle \\frac{1}{s^{2} + 1 + \\frac{R s}{L}}$"
          },
          "metadata": {},
          "execution_count": 175
        }
      ]
    },
    {
      "cell_type": "code",
      "source": [
        "#calcular polos\n",
        "p1 = ((-L/R) + sym.sqrt((L/R)**2-4*L*C))/(2*L*C)\n",
        "p2 = ((-L/R) - sym.sqrt((L/R)**2-4*L*C))/(2*L*C)\n",
        "p1"
      ],
      "metadata": {
        "colab": {
          "base_uri": "https://localhost:8080/",
          "height": 66
        },
        "id": "6QAWV4X9VjEw",
        "outputId": "76502a67-2bc6-4d67-b96d-2b11057e604f"
      },
      "execution_count": 176,
      "outputs": [
        {
          "output_type": "execute_result",
          "data": {
            "text/plain": [
              "            _____________\n",
              "           ╱           2 \n",
              "  L       ╱           L  \n",
              "- ─ +    ╱   -4⋅C⋅L + ── \n",
              "  R     ╱              2 \n",
              "      ╲╱              R  \n",
              "─────────────────────────\n",
              "          2⋅C⋅L          "
            ],
            "text/latex": "$\\displaystyle \\frac{- \\frac{L}{R} + \\sqrt{- 4 C L + \\frac{L^{2}}{R^{2}}}}{2 C L}$"
          },
          "metadata": {},
          "execution_count": 176
        }
      ]
    },
    {
      "cell_type": "code",
      "source": [
        "#Frecuencia Natrural Amortiguada\n",
        "wd = wn*sym.sqrt(1-xi**2)\n",
        "wd"
      ],
      "metadata": {
        "id": "24PcN0oNNMFG",
        "outputId": "d559b651-84c5-47f1-b87b-b660374f5f7f",
        "colab": {
          "base_uri": "https://localhost:8080/",
          "height": 71
        }
      },
      "execution_count": 177,
      "outputs": [
        {
          "output_type": "execute_result",
          "data": {
            "text/plain": [
              "     ____________\n",
              "    ╱      2     \n",
              "   ╱    C⋅R      \n",
              "  ╱   - ──── + 1 \n",
              "╲╱      4⋅L      \n",
              "─────────────────\n",
              "      √C⋅√L      "
            ],
            "text/latex": "$\\displaystyle \\frac{\\sqrt{- \\frac{C R^{2}}{4 L} + 1}}{\\sqrt{C} \\sqrt{L}}$"
          },
          "metadata": {},
          "execution_count": 177
        }
      ]
    },
    {
      "cell_type": "code",
      "source": [
        "\n",
        "#Tiempo pico tp\n",
        "tp = sym.pi/(wn*sym.sqrt(1-(xi**2)))\n",
        "tp"
      ],
      "metadata": {
        "id": "HBQGSTaWNm7Q",
        "outputId": "556a1d23-e91c-4d70-e0d6-b414d2ea1a44",
        "colab": {
          "base_uri": "https://localhost:8080/",
          "height": 73
        }
      },
      "execution_count": 178,
      "outputs": [
        {
          "output_type": "execute_result",
          "data": {
            "text/plain": [
              "     π⋅√C⋅√L     \n",
              "─────────────────\n",
              "     ____________\n",
              "    ╱      2     \n",
              "   ╱    C⋅R      \n",
              "  ╱   - ──── + 1 \n",
              "╲╱      4⋅L      "
            ],
            "text/latex": "$\\displaystyle \\frac{\\pi \\sqrt{C} \\sqrt{L}}{\\sqrt{- \\frac{C R^{2}}{4 L} + 1}}$"
          },
          "metadata": {},
          "execution_count": 178
        }
      ]
    },
    {
      "cell_type": "code",
      "source": [
        "#Tiempo establecimiento\n",
        "ts = 3/(xi*wn)\n",
        "ts\n",
        ""
      ],
      "metadata": {
        "id": "cb264KdGNhgI",
        "outputId": "dfce7469-440d-45e9-f218-b756b33c8635",
        "colab": {
          "base_uri": "https://localhost:8080/",
          "height": 52
        }
      },
      "execution_count": 179,
      "outputs": [
        {
          "output_type": "execute_result",
          "data": {
            "text/plain": [
              "6⋅L\n",
              "───\n",
              " R "
            ],
            "text/latex": "$\\displaystyle \\frac{6 L}{R}$"
          },
          "metadata": {},
          "execution_count": 179
        }
      ]
    },
    {
      "cell_type": "code",
      "source": [
        "def tiempo_levantamiento(wn, xi):\n",
        "    \"\"\"\n",
        "    Calcula el tiempo de levantamiento (10%-90%) para un sistema de segundo orden\n",
        "    con frecuencia natural wn y factor de amortiguamiento xi.\n",
        "    \"\"\"\n",
        "    xi = float(xi)  # Convertir a número flotante para evitar problemas con SymPy\n",
        "\n",
        "    if xi < 1:  # Sistema Subamortiguado\n",
        "        wd = wn * np.sqrt(1 - xi**2)\n",
        "        theta = np.arctan(np.sqrt(1 - xi**2) / xi)\n",
        "        tr = (np.pi - theta) / wd\n",
        "\n",
        "    elif xi > 1:  # Sistema Sobreamortiguado\n",
        "        tr = 2.2 / (wn * (xi - np.sqrt(xi**2 - 1)))\n",
        "\n",
        "    else:  # Sistema Críticamente Amortiguado (xi = 1)\n",
        "        tr = 2.2 / wn\n",
        "\n",
        "    return tr"
      ],
      "metadata": {
        "id": "DiSSQd8RNdWn"
      },
      "execution_count": 180,
      "outputs": []
    },
    {
      "cell_type": "markdown",
      "source": [
        "**SISTEMA SUBAMORTIGUADO**"
      ],
      "metadata": {
        "id": "4HfD5y7rNtfd"
      }
    },
    {
      "cell_type": "code",
      "source": [
        "#evaluar valores RLC\n",
        "RLC = {R: 0.1, L:('0.1'), C: ('0.1')}#valores utilizados para la simulación\n",
        "H.subs(RLC)"
      ],
      "metadata": {
        "colab": {
          "base_uri": "https://localhost:8080/",
          "height": 52
        },
        "id": "Zmlq31FdaGaq",
        "outputId": "34b0b652-33c9-4406-dc18-14f8d049d4cb"
      },
      "execution_count": 181,
      "outputs": [
        {
          "output_type": "execute_result",
          "data": {
            "text/plain": [
              "      1       \n",
              "──────────────\n",
              " 2            \n",
              "s  + 1.0⋅s + 1"
            ],
            "text/latex": "$\\displaystyle \\frac{1}{s^{2} + 1.0 s + 1}$"
          },
          "metadata": {},
          "execution_count": 181
        }
      ]
    },
    {
      "cell_type": "code",
      "source": [
        "print('p1=',p1.subs(RLC))\n",
        "print('p2=',p2.subs(RLC))\n",
        "print('xi=',xi.subs(RLC))\n",
        "print('omega_n=',wn.subs(RLC))"
      ],
      "metadata": {
        "colab": {
          "base_uri": "https://localhost:8080/"
        },
        "id": "kMBOikvZaaTL",
        "outputId": "909ebb4b-0137-47d4-9911-b391391f0d27"
      },
      "execution_count": 182,
      "outputs": [
        {
          "output_type": "stream",
          "name": "stdout",
          "text": [
            "p1= -1.01020514433644\n",
            "p2= -98.9897948556636\n",
            "xi= 0.0500000000000000\n",
            "omega_n= 10.0000000000000\n"
          ]
        }
      ]
    },
    {
      "cell_type": "code",
      "source": [
        "#gráfica polos y ceros paquete de control de sympy\n",
        "from sympy.physics.control.lti import TransferFunction\n",
        "from sympy.physics.control.control_plots import pole_zero_plot\n",
        "num,den=sym.fraction(H.subs(RLC))\n",
        "\n",
        "tf1 = TransferFunction(num, den, s)#numerados y denomirador función de transferencia con valores evaluados de RLC\n",
        "pole_zero_plot(tf1)"
      ],
      "metadata": {
        "colab": {
          "base_uri": "https://localhost:8080/",
          "height": 496
        },
        "id": "KBsQdqmTac26",
        "outputId": "8011f6ab-a62f-4fe5-8afe-12484f5bb002"
      },
      "execution_count": 183,
      "outputs": [
        {
          "output_type": "display_data",
          "data": {
            "text/plain": [
              "<Figure size 640x480 with 1 Axes>"
            ],
            "image/png": "[encoded data removed]"
          },
          "metadata": {}
        }
      ]
    },
    {
      "cell_type": "code",
      "source": [
        "#salida según entrada de interés\n",
        "Y = H * X #función de transferencia del circuito multiplicada por X(s)\n",
        "#Función de salida\n",
        "Y"
      ],
      "metadata": {
        "colab": {
          "base_uri": "https://localhost:8080/",
          "height": 58
        },
        "id": "WUjXuQiVa6Cl",
        "outputId": "6f49c06e-c18e-470c-c985-051098743b09"
      },
      "execution_count": 184,
      "outputs": [
        {
          "output_type": "execute_result",
          "data": {
            "text/plain": [
              "       1        \n",
              "────────────────\n",
              "  ⎛ 2       R⋅s⎞\n",
              "s⋅⎜s  + 1 + ───⎟\n",
              "  ⎝          L ⎠"
            ],
            "text/latex": "$\\displaystyle \\frac{1}{s \\left(s^{2} + 1 + \\frac{R s}{L}\\right)}$"
          },
          "metadata": {},
          "execution_count": 184
        }
      ]
    },
    {
      "cell_type": "code",
      "source": [
        "#Función de salida en Laplace factorizada (fracciones parciales)\n",
        "Yp = Y.apart(s) # el comando apart factoriza la expresión simbólica\n",
        "Yp"
      ],
      "metadata": {
        "colab": {
          "base_uri": "https://localhost:8080/",
          "height": 53
        },
        "id": "E7AyjFxbbWTu",
        "outputId": "a71a55a4-d123-4ff1-f5f9-f22e29508f18"
      },
      "execution_count": 185,
      "outputs": [
        {
          "output_type": "execute_result",
          "data": {
            "text/plain": [
              "     L⋅s + R       1\n",
              "- ────────────── + ─\n",
              "     2             s\n",
              "  L⋅s  + L + R⋅s    "
            ],
            "text/latex": "$\\displaystyle - \\frac{L s + R}{L s^{2} + L + R s} + \\frac{1}{s}$"
          },
          "metadata": {},
          "execution_count": 185
        }
      ]
    },
    {
      "cell_type": "code",
      "source": [
        "#Modelo en el tiempo en función de RLC\n",
        "Ye = Yp\n",
        "#Se recorre cada fracción parcial según factorización para simplificar cálculos\n",
        "for j in range(len(Ye.args)):\n",
        "    if j==0:#primer elemento de la solucion\n",
        "      yt = sym.inverse_laplace_transform(Ye.args[j], s, t)\n",
        "    else: #siguientes elementos concatenados\n",
        "      yt+= sym.inverse_laplace_transform(Ye.args[j], s, t)\n",
        "yt"
      ],
      "metadata": {
        "colab": {
          "base_uri": "https://localhost:8080/",
          "height": 70
        },
        "id": "j2U8pgxubyLy",
        "outputId": "1dd35882-f0fb-425f-983d-aef4fdcf9900"
      },
      "execution_count": 186,
      "outputs": [
        {
          "output_type": "execute_result",
          "data": {
            "text/plain": [
              "     -R⋅t     ⎛     ___________⎞                                            \n",
              "     ─────    ⎜    ╱    2    2 ⎟                                            \n",
              "      2⋅L     ⎜t⋅╲╱  4⋅L  - R  ⎟        -R⋅t                                \n",
              "  R⋅ℯ     ⋅sin⎜────────────────⎟        ─────    ⎛    _________   _________⎞\n",
              "              ⎝      2⋅L       ⎠         2⋅L     ⎜t⋅╲╱ 2⋅L - R ⋅╲╱ 2⋅L + R ⎟\n",
              "- ────────────────────────────── + 1 - ℯ     ⋅cos⎜─────────────────────────⎟\n",
              "             ___________                         ⎝           2⋅L           ⎠\n",
              "            ╱    2    2                                                     \n",
              "          ╲╱  4⋅L  - R                                                      "
            ],
            "text/latex": "$\\displaystyle - \\frac{R e^{- \\frac{R t}{2 L}} \\sin{\\left(\\frac{t \\sqrt{4 L^{2} - R^{2}}}{2 L} \\right)}}{\\sqrt{4 L^{2} - R^{2}}} + 1 - e^{- \\frac{R t}{2 L}} \\cos{\\left(\\frac{t \\sqrt{2 L - R} \\sqrt{2 L + R}}{2 L} \\right)}$"
          },
          "metadata": {},
          "execution_count": 186
        }
      ]
    },
    {
      "cell_type": "code",
      "source": [
        "#Modelo en el tiempo en función de RLC - substituir valores\n",
        "Ye = Yp.subs(RLC).apart(s)\n",
        "Ye\n"
      ],
      "metadata": {
        "colab": {
          "base_uri": "https://localhost:8080/",
          "height": 54
        },
        "id": "AW7m-Kcnb0fi",
        "outputId": "b825086d-1976-4a4b-cc16-acf939987237"
      },
      "execution_count": 187,
      "outputs": [
        {
          "output_type": "execute_result",
          "data": {
            "text/plain": [
              "  1.0⋅(s + 1)   1.0\n",
              "- ─────────── + ───\n",
              "   2             s \n",
              "  s  + s + 1       "
            ],
            "text/latex": "$\\displaystyle - \\frac{1.0 \\left(s + 1\\right)}{s^{2} + s + 1} + \\frac{1.0}{s}$"
          },
          "metadata": {},
          "execution_count": 187
        }
      ]
    },
    {
      "cell_type": "code",
      "source": [
        "#Se recorre cada fracción parcial según factorización para simplificar cálculos\n",
        "for j in range(len(Ye.args)):\n",
        "    if j==0:#primer elemento de la solucion\n",
        "      yt = sym.inverse_laplace_transform(Ye.args[j], s, t)\n",
        "    else: #siguientes elementos concatenados\n",
        "      yt+= sym.inverse_laplace_transform(Ye.args[j], s, t)\n",
        "yt"
      ],
      "metadata": {
        "colab": {
          "base_uri": "https://localhost:8080/",
          "height": 68
        },
        "id": "8KjeoDkGb8nj",
        "outputId": "64130148-c06e-48f3-ed75-3faf6215b5ad"
      },
      "execution_count": 188,
      "outputs": [
        {
          "output_type": "execute_result",
          "data": {
            "text/plain": [
              "                            -t                   -t           \n",
              "                            ───                  ───          \n",
              "                             2     ⎛√3⋅t⎞         2     ⎛√3⋅t⎞\n",
              "1.0 - 0.333333333333333⋅√3⋅ℯ   ⋅sin⎜────⎟ - 1.0⋅ℯ   ⋅cos⎜────⎟\n",
              "                                   ⎝ 2  ⎠               ⎝ 2  ⎠"
            ],
            "text/latex": "$\\displaystyle 1.0 - 0.333333333333333 \\sqrt{3} e^{- \\frac{t}{2}} \\sin{\\left(\\frac{\\sqrt{3} t}{2} \\right)} - 1.0 e^{- \\frac{t}{2}} \\cos{\\left(\\frac{\\sqrt{3} t}{2} \\right)}$"
          },
          "metadata": {},
          "execution_count": 188
        }
      ]
    },
    {
      "cell_type": "code",
      "source": [
        "#Gráfica de salida en el tiempo\n",
        "sym.plot(yt,(t,0,float((0.5/xi*wn).subs(RLC))),xlabel='$t$', ylabel='$y(t)$')\n",
        "plt.show()"
      ],
      "metadata": {
        "colab": {
          "base_uri": "https://localhost:8080/",
          "height": 484
        },
        "id": "UKxiytp7cGZ9",
        "outputId": "26831043-b1e0-4685-b5db-72dc38099abb"
      },
      "execution_count": 189,
      "outputs": [
        {
          "output_type": "display_data",
          "data": {
            "text/plain": [
              "<Figure size 640x480 with 1 Axes>"
            ],
            "image/png": "[encoded data removed]"
          },
          "metadata": {}
        }
      ]
    },
    {
      "cell_type": "code",
      "source": [
        "#Frecuencia  no Amortiguada\n",
        "wn.subs(RLC)"
      ],
      "metadata": {
        "id": "pWKNmx-hJ7GQ",
        "outputId": "f0a8c4c3-1d05-405a-e392-730f0505ee7d",
        "colab": {
          "base_uri": "https://localhost:8080/",
          "height": 37
        }
      },
      "execution_count": 190,
      "outputs": [
        {
          "output_type": "execute_result",
          "data": {
            "text/plain": [
              "10.0000000000000"
            ],
            "text/latex": "$\\displaystyle 10.0$"
          },
          "metadata": {},
          "execution_count": 190
        }
      ]
    },
    {
      "cell_type": "code",
      "source": [
        "\n",
        "#Frecuencia Amortiguada\n",
        "wd.subs(RLC)\n",
        ""
      ],
      "metadata": {
        "id": "v4LtpFsqLdc4",
        "outputId": "f7a8f67a-e879-4e95-a122-f96ddb0c0475",
        "colab": {
          "base_uri": "https://localhost:8080/",
          "height": 37
        }
      },
      "execution_count": 191,
      "outputs": [
        {
          "output_type": "execute_result",
          "data": {
            "text/plain": [
              "9.98749217771909"
            ],
            "text/latex": "$\\displaystyle 9.98749217771909$"
          },
          "metadata": {},
          "execution_count": 191
        }
      ]
    },
    {
      "cell_type": "code",
      "source": [
        "#Tiempo de levantamiento\n",
        "z = xi.subs(RLC)\n",
        "tr = tiempo_levantamiento(wn,z)\n",
        "tr.subs(RLC)\n",
        ""
      ],
      "metadata": {
        "id": "G2s9WhhYLmhw",
        "outputId": "35a255fb-5779-49dd-c373-0698fb73ca96",
        "colab": {
          "base_uri": "https://localhost:8080/",
          "height": 37
        }
      },
      "execution_count": 192,
      "outputs": [
        {
          "output_type": "execute_result",
          "data": {
            "text/plain": [
              "0.162284701180194"
            ],
            "text/latex": "$\\displaystyle 0.162284701180194$"
          },
          "metadata": {},
          "execution_count": 192
        }
      ]
    },
    {
      "cell_type": "code",
      "source": [
        "#Tiempo Pico\n",
        "tp.subs(RLC)"
      ],
      "metadata": {
        "id": "5EecuCPsMSGl",
        "outputId": "09247999-a671-40da-f4db-24605c9ca93c",
        "colab": {
          "base_uri": "https://localhost:8080/",
          "height": 38
        }
      },
      "execution_count": 193,
      "outputs": [
        {
          "output_type": "execute_result",
          "data": {
            "text/plain": [
              "0.100125234864352⋅π"
            ],
            "text/latex": "$\\displaystyle 0.100125234864352 \\pi$"
          },
          "metadata": {},
          "execution_count": 193
        }
      ]
    },
    {
      "cell_type": "code",
      "source": [
        "#Tiempo establecimiento\n",
        "ts.subs(RLC)"
      ],
      "metadata": {
        "id": "OMH_OtEbMqZy",
        "outputId": "c94cada0-9aa6-4b44-cdfd-0b2579401a44",
        "colab": {
          "base_uri": "https://localhost:8080/",
          "height": 37
        }
      },
      "execution_count": 194,
      "outputs": [
        {
          "output_type": "execute_result",
          "data": {
            "text/plain": [
              "6.00000000000000"
            ],
            "text/latex": "$\\displaystyle 6.0$"
          },
          "metadata": {},
          "execution_count": 194
        }
      ]
    },
    {
      "cell_type": "markdown",
      "source": [
        "**criticamente amortiguado**"
      ],
      "metadata": {
        "id": "Vz0B0_reGqj7"
      }
    },
    {
      "cell_type": "code",
      "source": [
        "#evaluar valores RLC\n",
        "RLC = {R: 2, L:('1'), C:('1')}#valores utilizados para la simulación\n",
        "H.subs(RLC)"
      ],
      "metadata": {
        "colab": {
          "base_uri": "https://localhost:8080/",
          "height": 52
        },
        "id": "mSWnaK3CJDxb",
        "outputId": "987d2f06-28f4-4693-d845-6c6335e74be4"
      },
      "execution_count": 195,
      "outputs": [
        {
          "output_type": "execute_result",
          "data": {
            "text/plain": [
              "     1      \n",
              "────────────\n",
              " 2          \n",
              "s  + 2⋅s + 1"
            ],
            "text/latex": "$\\displaystyle \\frac{1}{s^{2} + 2 s + 1}$"
          },
          "metadata": {},
          "execution_count": 195
        }
      ]
    },
    {
      "cell_type": "code",
      "source": [
        "print('p1=',p1.subs(RLC))\n",
        "print('p2=',p2.subs(RLC))\n",
        "print('xi=',xi.subs(RLC))\n",
        "print('omega_n=',wn.subs(RLC))"
      ],
      "metadata": {
        "colab": {
          "base_uri": "https://localhost:8080/"
        },
        "id": "7wiGB_WAJK1U",
        "outputId": "64f90512-c4fc-499b-c375-d3927a3a5cea"
      },
      "execution_count": 196,
      "outputs": [
        {
          "output_type": "stream",
          "name": "stdout",
          "text": [
            "p1= -1/4 + sqrt(15)*I/4\n",
            "p2= -1/4 - sqrt(15)*I/4\n",
            "xi= 1\n",
            "omega_n= 1\n"
          ]
        }
      ]
    },
    {
      "cell_type": "code",
      "source": [
        "#gráfica polos y ceros paquete de control de sympy\n",
        "from sympy.physics.control.lti import TransferFunction\n",
        "from sympy.physics.control.control_plots import pole_zero_plot\n",
        "num,den=sym.fraction(H.subs(RLC))\n",
        "\n",
        "tf1 = TransferFunction(num, den, s)#numerados y denomirador función de transferencia con valores evaluados de RLC\n",
        "pole_zero_plot(tf1)"
      ],
      "metadata": {
        "colab": {
          "base_uri": "https://localhost:8080/",
          "height": 496
        },
        "id": "anJoGQbrJnU_",
        "outputId": "6782d7d5-9a53-4f57-b1ba-906b14362f2a"
      },
      "execution_count": 197,
      "outputs": [
        {
          "output_type": "display_data",
          "data": {
            "text/plain": [
              "<Figure size 640x480 with 1 Axes>"
            ],
            "image/png": "[encoded data removed]"
          },
          "metadata": {}
        }
      ]
    },
    {
      "cell_type": "code",
      "source": [
        "#salida según entrada de interés\n",
        "Y = H * X #función de transferencia del circuito multiplicada por X(s)\n",
        "#Función de salida\n",
        "Y"
      ],
      "metadata": {
        "colab": {
          "base_uri": "https://localhost:8080/",
          "height": 58
        },
        "id": "cA3eP_oxJtm4",
        "outputId": "d43a0ed0-8189-479c-9fdf-7a7838d9d5fd"
      },
      "execution_count": 198,
      "outputs": [
        {
          "output_type": "execute_result",
          "data": {
            "text/plain": [
              "       1        \n",
              "────────────────\n",
              "  ⎛ 2       R⋅s⎞\n",
              "s⋅⎜s  + 1 + ───⎟\n",
              "  ⎝          L ⎠"
            ],
            "text/latex": "$\\displaystyle \\frac{1}{s \\left(s^{2} + 1 + \\frac{R s}{L}\\right)}$"
          },
          "metadata": {},
          "execution_count": 198
        }
      ]
    },
    {
      "cell_type": "code",
      "source": [
        "#Función de salida en Laplace factorizada (fracciones parciales)\n",
        "Yp = Y.apart(s) # el comando apart factoriza la expresión simbólica\n",
        "Yp\n"
      ],
      "metadata": {
        "colab": {
          "base_uri": "https://localhost:8080/",
          "height": 53
        },
        "id": "n5nGXZs1Jzyu",
        "outputId": "2d55e468-5663-41d5-b608-923bcfb2cd86"
      },
      "execution_count": 199,
      "outputs": [
        {
          "output_type": "execute_result",
          "data": {
            "text/plain": [
              "     L⋅s + R       1\n",
              "- ────────────── + ─\n",
              "     2             s\n",
              "  L⋅s  + L + R⋅s    "
            ],
            "text/latex": "$\\displaystyle - \\frac{L s + R}{L s^{2} + L + R s} + \\frac{1}{s}$"
          },
          "metadata": {},
          "execution_count": 199
        }
      ]
    },
    {
      "cell_type": "code",
      "source": [
        "#Modelo en el tiempo en función de RLC\n",
        "Ye = Yp\n",
        "#Se recorre cada fracción parcial según factorización para simplificar cálculos\n",
        "for j in range(len(Ye.args)):\n",
        "    if j==0:#primer elemento de la solucion\n",
        "      yt = sym.inverse_laplace_transform(Ye.args[j], s, t)\n",
        "    else: #siguientes elementos concatenados\n",
        "      yt+= sym.inverse_laplace_transform(Ye.args[j], s, t)\n",
        "yt"
      ],
      "metadata": {
        "colab": {
          "base_uri": "https://localhost:8080/",
          "height": 70
        },
        "id": "PqIy1gbnJ4gN",
        "outputId": "badbb55b-e611-448d-a727-c9c0d94e243f"
      },
      "execution_count": 200,
      "outputs": [
        {
          "output_type": "execute_result",
          "data": {
            "text/plain": [
              "     -R⋅t     ⎛     ___________⎞                                            \n",
              "     ─────    ⎜    ╱    2    2 ⎟                                            \n",
              "      2⋅L     ⎜t⋅╲╱  4⋅L  - R  ⎟        -R⋅t                                \n",
              "  R⋅ℯ     ⋅sin⎜────────────────⎟        ─────    ⎛    _________   _________⎞\n",
              "              ⎝      2⋅L       ⎠         2⋅L     ⎜t⋅╲╱ 2⋅L - R ⋅╲╱ 2⋅L + R ⎟\n",
              "- ────────────────────────────── + 1 - ℯ     ⋅cos⎜─────────────────────────⎟\n",
              "             ___________                         ⎝           2⋅L           ⎠\n",
              "            ╱    2    2                                                     \n",
              "          ╲╱  4⋅L  - R                                                      "
            ],
            "text/latex": "$\\displaystyle - \\frac{R e^{- \\frac{R t}{2 L}} \\sin{\\left(\\frac{t \\sqrt{4 L^{2} - R^{2}}}{2 L} \\right)}}{\\sqrt{4 L^{2} - R^{2}}} + 1 - e^{- \\frac{R t}{2 L}} \\cos{\\left(\\frac{t \\sqrt{2 L - R} \\sqrt{2 L + R}}{2 L} \\right)}$"
          },
          "metadata": {},
          "execution_count": 200
        }
      ]
    },
    {
      "cell_type": "code",
      "source": [
        "#Modelo en el tiempo en función de RLC - substituir valores\n",
        "Ye = Yp.subs(RLC).apart(s)\n",
        "Ye\n"
      ],
      "metadata": {
        "colab": {
          "base_uri": "https://localhost:8080/",
          "height": 58
        },
        "id": "-b4b3JXHJ8tg",
        "outputId": "98d54ac5-3235-45f8-a27e-9e06ff9c7dee"
      },
      "execution_count": 201,
      "outputs": [
        {
          "output_type": "execute_result",
          "data": {
            "text/plain": [
              "    1        1       1\n",
              "- ───── - ──────── + ─\n",
              "  s + 1          2   s\n",
              "          (s + 1)     "
            ],
            "text/latex": "$\\displaystyle - \\frac{1}{s + 1} - \\frac{1}{\\left(s + 1\\right)^{2}} + \\frac{1}{s}$"
          },
          "metadata": {},
          "execution_count": 201
        }
      ]
    },
    {
      "cell_type": "code",
      "source": [
        "#Se recorre cada fracción parcial según factorización para simplificar cálculos\n",
        "for j in range(len(Ye.args)):\n",
        "    if j==0:#primer elemento de la solucion\n",
        "      yt = sym.inverse_laplace_transform(Ye.args[j], s, t)\n",
        "    else: #siguientes elementos concatenados\n",
        "      yt+= sym.inverse_laplace_transform(Ye.args[j], s, t)\n",
        "yt"
      ],
      "metadata": {
        "colab": {
          "base_uri": "https://localhost:8080/",
          "height": 38
        },
        "id": "o6YrTFpSKAu0",
        "outputId": "67194685-f69e-4613-f418-e9aae3352cb5"
      },
      "execution_count": 202,
      "outputs": [
        {
          "output_type": "execute_result",
          "data": {
            "text/plain": [
              "     -t        -t\n",
              "- t⋅ℯ   + 1 - ℯ  "
            ],
            "text/latex": "$\\displaystyle - t e^{- t} + 1 - e^{- t}$"
          },
          "metadata": {},
          "execution_count": 202
        }
      ]
    },
    {
      "cell_type": "code",
      "source": [
        "#Gráfica de salida en el tiempo\n",
        "sym.plot(yt,(t,0,float((50/xi*wn).subs(RLC))),xlabel='$t$', ylabel='$y(t)$')\n",
        "plt.show()"
      ],
      "metadata": {
        "colab": {
          "base_uri": "https://localhost:8080/",
          "height": 484
        },
        "id": "Oo4I87HoKFs1",
        "outputId": "865cfa60-3c7c-487d-9f0a-6474df6b1f2d"
      },
      "execution_count": 203,
      "outputs": [
        {
          "output_type": "display_data",
          "data": {
            "text/plain": [
              "<Figure size 640x480 with 1 Axes>"
            ],
            "image/png": "[encoded data removed]"
          },
          "metadata": {}
        }
      ]
    },
    {
      "cell_type": "code",
      "source": [
        "#Frecuencia  no Amortiguada\n",
        "wn.subs(RLC)"
      ],
      "metadata": {
        "id": "noAhtvrQO5Jy",
        "outputId": "d166d000-ac52-4346-9bb0-bcd4849e0d08",
        "colab": {
          "base_uri": "https://localhost:8080/",
          "height": 37
        }
      },
      "execution_count": 204,
      "outputs": [
        {
          "output_type": "execute_result",
          "data": {
            "text/plain": [
              "1"
            ],
            "text/latex": "$\\displaystyle 1$"
          },
          "metadata": {},
          "execution_count": 204
        }
      ]
    },
    {
      "cell_type": "code",
      "source": [
        "#Frecuencia Amortiguada\n",
        "wd.subs(RLC)"
      ],
      "metadata": {
        "id": "D3iqu1IYPAd4",
        "outputId": "b0c7a3bc-e515-4f22-84ed-e7338338baeb",
        "colab": {
          "base_uri": "https://localhost:8080/",
          "height": 37
        }
      },
      "execution_count": 205,
      "outputs": [
        {
          "output_type": "execute_result",
          "data": {
            "text/plain": [
              "0"
            ],
            "text/latex": "$\\displaystyle 0$"
          },
          "metadata": {},
          "execution_count": 205
        }
      ]
    },
    {
      "cell_type": "code",
      "source": [
        "#Tiempo de levantamiento\n",
        "z=xi.subs(RLC)\n",
        "tr=tiempo_levantamiento(wn, z)\n",
        "tr.subs(RLC)"
      ],
      "metadata": {
        "id": "uFD4_JEDPGVS",
        "outputId": "7dfd14c8-ec64-4158-ba02-b147c42f775b",
        "colab": {
          "base_uri": "https://localhost:8080/",
          "height": 37
        }
      },
      "execution_count": 206,
      "outputs": [
        {
          "output_type": "execute_result",
          "data": {
            "text/plain": [
              "2.20000000000000"
            ],
            "text/latex": "$\\displaystyle 2.2$"
          },
          "metadata": {},
          "execution_count": 206
        }
      ]
    },
    {
      "cell_type": "code",
      "source": [
        "#Tiempo Pico\n",
        "tp.subs(RLC)"
      ],
      "metadata": {
        "id": "GA5Xfq0NPNph",
        "outputId": "9699ffb9-93b0-4580-81d7-e76af99e6c04",
        "colab": {
          "base_uri": "https://localhost:8080/",
          "height": 37
        }
      },
      "execution_count": 207,
      "outputs": [
        {
          "output_type": "execute_result",
          "data": {
            "text/plain": [
              "zoo"
            ],
            "text/latex": "$\\displaystyle \\tilde{\\infty}$"
          },
          "metadata": {},
          "execution_count": 207
        }
      ]
    },
    {
      "cell_type": "code",
      "source": [
        "#Tiempo establecimiento\n",
        "ts.subs(RLC)"
      ],
      "metadata": {
        "id": "4TG2scudPQDa",
        "outputId": "ff2edbc1-98bb-42a5-8597-39f9f1d67e13",
        "colab": {
          "base_uri": "https://localhost:8080/",
          "height": 37
        }
      },
      "execution_count": 208,
      "outputs": [
        {
          "output_type": "execute_result",
          "data": {
            "text/plain": [
              "3"
            ],
            "text/latex": "$\\displaystyle 3$"
          },
          "metadata": {},
          "execution_count": 208
        }
      ]
    },
    {
      "cell_type": "markdown",
      "source": [
        "**sobreamortiguado**"
      ],
      "metadata": {
        "id": "PHd6JacDgx4w"
      }
    },
    {
      "cell_type": "code",
      "source": [
        "#evaluar valores RLC\n",
        "RLC = {R: 4, L: ('1'), C: ('1')}#valores utilizados para la simulación\n",
        "H.subs(RLC)"
      ],
      "metadata": {
        "colab": {
          "base_uri": "https://localhost:8080/",
          "height": 52
        },
        "id": "FmrLdYp0hOpw",
        "outputId": "88fd7aa8-fdbd-4862-c648-5e2e0768e7f4"
      },
      "execution_count": 209,
      "outputs": [
        {
          "output_type": "execute_result",
          "data": {
            "text/plain": [
              "     1      \n",
              "────────────\n",
              " 2          \n",
              "s  + 4⋅s + 1"
            ],
            "text/latex": "$\\displaystyle \\frac{1}{s^{2} + 4 s + 1}$"
          },
          "metadata": {},
          "execution_count": 209
        }
      ]
    },
    {
      "cell_type": "code",
      "source": [
        "print('p1=',p1.subs(RLC))\n",
        "print('p2=',p2.subs(RLC))\n",
        "print('xi=',xi.subs(RLC))\n",
        "print('omega_n=',wn.subs(RLC))"
      ],
      "metadata": {
        "colab": {
          "base_uri": "https://localhost:8080/"
        },
        "id": "vWOZwpp4haAI",
        "outputId": "1efe0f3b-0ec1-4f80-c36d-e20f4b25f45a"
      },
      "execution_count": 210,
      "outputs": [
        {
          "output_type": "stream",
          "name": "stdout",
          "text": [
            "p1= -1/8 + 3*sqrt(7)*I/8\n",
            "p2= -1/8 - 3*sqrt(7)*I/8\n",
            "xi= 2\n",
            "omega_n= 1\n"
          ]
        }
      ]
    },
    {
      "cell_type": "code",
      "source": [
        "#gráfica polos y ceros paquete de control de sympy\n",
        "from sympy.physics.control.lti import TransferFunction\n",
        "from sympy.physics.control.control_plots import pole_zero_plot\n",
        "num,den=sym.fraction(H.subs(RLC))\n",
        "\n",
        "tf1 = TransferFunction(num, den, s)#numerados y denomirador función de transferencia con valores evaluados de RLC\n",
        "pole_zero_plot(tf1)"
      ],
      "metadata": {
        "colab": {
          "base_uri": "https://localhost:8080/",
          "height": 496
        },
        "id": "KsdknQu6hkE6",
        "outputId": "609e1547-4c22-4920-c0da-80e896749c63"
      },
      "execution_count": 211,
      "outputs": [
        {
          "output_type": "display_data",
          "data": {
            "text/plain": [
              "<Figure size 640x480 with 1 Axes>"
            ],
            "image/png": "[encoded data removed]"
          },
          "metadata": {}
        }
      ]
    },
    {
      "cell_type": "code",
      "source": [
        "#salida según entrada de interés\n",
        "Y = H * X #función de transferencia del circuito multiplicada por X(s)\n",
        "#Función de salida\n",
        "Y"
      ],
      "metadata": {
        "colab": {
          "base_uri": "https://localhost:8080/",
          "height": 58
        },
        "id": "yrzlSNxZhtoc",
        "outputId": "65238c6b-e0c7-4838-e58a-185941b7bf42"
      },
      "execution_count": 212,
      "outputs": [
        {
          "output_type": "execute_result",
          "data": {
            "text/plain": [
              "       1        \n",
              "────────────────\n",
              "  ⎛ 2       R⋅s⎞\n",
              "s⋅⎜s  + 1 + ───⎟\n",
              "  ⎝          L ⎠"
            ],
            "text/latex": "$\\displaystyle \\frac{1}{s \\left(s^{2} + 1 + \\frac{R s}{L}\\right)}$"
          },
          "metadata": {},
          "execution_count": 212
        }
      ]
    },
    {
      "cell_type": "code",
      "source": [
        "#Función de salida en Laplace factorizada (fracciones parciales)\n",
        "Yp = Y.apart(s) # el comando apart factoriza la expresión simbólica\n",
        "Yp\n"
      ],
      "metadata": {
        "colab": {
          "base_uri": "https://localhost:8080/",
          "height": 53
        },
        "id": "3x2_Si-zhxUV",
        "outputId": "863ee33a-2265-432d-e20b-dcce406963bf"
      },
      "execution_count": 213,
      "outputs": [
        {
          "output_type": "execute_result",
          "data": {
            "text/plain": [
              "     L⋅s + R       1\n",
              "- ────────────── + ─\n",
              "     2             s\n",
              "  L⋅s  + L + R⋅s    "
            ],
            "text/latex": "$\\displaystyle - \\frac{L s + R}{L s^{2} + L + R s} + \\frac{1}{s}$"
          },
          "metadata": {},
          "execution_count": 213
        }
      ]
    },
    {
      "cell_type": "code",
      "source": [
        "#Modelo en el tiempo en función de RLC\n",
        "Ye = Yp\n",
        "#Se recorre cada fracción parcial según factorización para simplificar cálculos\n",
        "for j in range(len(Ye.args)):\n",
        "    if j==0:#primer elemento de la solucion\n",
        "      yt = sym.inverse_laplace_transform(Ye.args[j], s, t)\n",
        "    else: #siguientes elementos concatenados\n",
        "      yt+= sym.inverse_laplace_transform(Ye.args[j], s, t)\n",
        "yt"
      ],
      "metadata": {
        "colab": {
          "base_uri": "https://localhost:8080/",
          "height": 70
        },
        "id": "I32Zd_1Fh9n4",
        "outputId": "e00a12d3-6216-44ca-9519-2cd23f26d500"
      },
      "execution_count": 214,
      "outputs": [
        {
          "output_type": "execute_result",
          "data": {
            "text/plain": [
              "     -R⋅t     ⎛     ___________⎞                                            \n",
              "     ─────    ⎜    ╱    2    2 ⎟                                            \n",
              "      2⋅L     ⎜t⋅╲╱  4⋅L  - R  ⎟        -R⋅t                                \n",
              "  R⋅ℯ     ⋅sin⎜────────────────⎟        ─────    ⎛    _________   _________⎞\n",
              "              ⎝      2⋅L       ⎠         2⋅L     ⎜t⋅╲╱ 2⋅L - R ⋅╲╱ 2⋅L + R ⎟\n",
              "- ────────────────────────────── + 1 - ℯ     ⋅cos⎜─────────────────────────⎟\n",
              "             ___________                         ⎝           2⋅L           ⎠\n",
              "            ╱    2    2                                                     \n",
              "          ╲╱  4⋅L  - R                                                      "
            ],
            "text/latex": "$\\displaystyle - \\frac{R e^{- \\frac{R t}{2 L}} \\sin{\\left(\\frac{t \\sqrt{4 L^{2} - R^{2}}}{2 L} \\right)}}{\\sqrt{4 L^{2} - R^{2}}} + 1 - e^{- \\frac{R t}{2 L}} \\cos{\\left(\\frac{t \\sqrt{2 L - R} \\sqrt{2 L + R}}{2 L} \\right)}$"
          },
          "metadata": {},
          "execution_count": 214
        }
      ]
    },
    {
      "cell_type": "code",
      "source": [
        "#Modelo en el tiempo en función de RLC - substituir valores\n",
        "Ye = Yp.subs(RLC).apart(s)\n",
        "Ye\n"
      ],
      "metadata": {
        "colab": {
          "base_uri": "https://localhost:8080/",
          "height": 52
        },
        "id": "bVk5yYAeiBFS",
        "outputId": "48646f4a-d73d-4c16-d02f-6ad08be78e79"
      },
      "execution_count": 215,
      "outputs": [
        {
          "output_type": "execute_result",
          "data": {
            "text/plain": [
              "     s + 4       1\n",
              "- ──────────── + ─\n",
              "   2             s\n",
              "  s  + 4⋅s + 1    "
            ],
            "text/latex": "$\\displaystyle - \\frac{s + 4}{s^{2} + 4 s + 1} + \\frac{1}{s}$"
          },
          "metadata": {},
          "execution_count": 215
        }
      ]
    },
    {
      "cell_type": "code",
      "source": [
        "#Se recorre cada fracción parcial según factorización para simplificar cálculos\n",
        "for j in range(len(Ye.args)):\n",
        "    if j==0:#primer elemento de la solucion\n",
        "      yt = sym.inverse_laplace_transform(Ye.args[j], s, t)\n",
        "    else: #siguientes elementos concatenados\n",
        "      yt+= sym.inverse_laplace_transform(Ye.args[j], s, t)\n",
        "yt"
      ],
      "metadata": {
        "colab": {
          "base_uri": "https://localhost:8080/",
          "height": 57
        },
        "id": "d2JHlzXJiD7A",
        "outputId": "429aed54-d700-4756-dfb0-9fe819cee0e0"
      },
      "execution_count": 216,
      "outputs": [
        {
          "output_type": "execute_result",
          "data": {
            "text/plain": [
              "          -2⋅t                              \n",
              "    2⋅√3⋅ℯ    ⋅sinh(√3⋅t)    -2⋅t           \n",
              "1 - ───────────────────── - ℯ    ⋅cosh(√3⋅t)\n",
              "              3                             "
            ],
            "text/latex": "$\\displaystyle 1 - \\frac{2 \\sqrt{3} e^{- 2 t} \\sinh{\\left(\\sqrt{3} t \\right)}}{3} - e^{- 2 t} \\cosh{\\left(\\sqrt{3} t \\right)}$"
          },
          "metadata": {},
          "execution_count": 216
        }
      ]
    },
    {
      "cell_type": "code",
      "source": [
        "#Gráfica de salida en el tiempo\n",
        "sym.plot(yt,(t,0,float((50/xi*wn).subs(RLC))),xlabel='$t$', ylabel='$y(t)$')\n",
        "plt.show()"
      ],
      "metadata": {
        "colab": {
          "base_uri": "https://localhost:8080/",
          "height": 484
        },
        "id": "z0F9prZgiGz8",
        "outputId": "8ca5f0bc-1954-4ed2-b50a-8c188f196c07"
      },
      "execution_count": 217,
      "outputs": [
        {
          "output_type": "display_data",
          "data": {
            "text/plain": [
              "<Figure size 640x480 with 1 Axes>"
            ],
            "image/png": "[encoded data removed]"
          },
          "metadata": {}
        }
      ]
    },
    {
      "cell_type": "code",
      "source": [
        "#Frecuencia  no Amortiguada\n",
        "wn.subs(RLC)"
      ],
      "metadata": {
        "id": "QQRYov1oOXzp",
        "outputId": "800ad0e1-96dc-4c2a-bc2a-d9bddf0eb710",
        "colab": {
          "base_uri": "https://localhost:8080/",
          "height": 37
        }
      },
      "execution_count": 218,
      "outputs": [
        {
          "output_type": "execute_result",
          "data": {
            "text/plain": [
              "1"
            ],
            "text/latex": "$\\displaystyle 1$"
          },
          "metadata": {},
          "execution_count": 218
        }
      ]
    },
    {
      "cell_type": "code",
      "source": [
        "#Frecuencia Amortiguada\n",
        "wd.subs(RLC)"
      ],
      "metadata": {
        "id": "rlvfNx0oOecL",
        "outputId": "21668443-a837-4c0d-c3ae-0dd1b400ecc4",
        "colab": {
          "base_uri": "https://localhost:8080/",
          "height": 40
        }
      },
      "execution_count": 219,
      "outputs": [
        {
          "output_type": "execute_result",
          "data": {
            "text/plain": [
              "√3⋅ⅈ"
            ],
            "text/latex": "$\\displaystyle \\sqrt{3} i$"
          },
          "metadata": {},
          "execution_count": 219
        }
      ]
    },
    {
      "cell_type": "code",
      "source": [
        "#Tiempo de levantamiento\n",
        "z=xi.subs(RLC)\n",
        "tr=tiempo_levantamiento(wn, z)\n",
        "tr.subs(RLC)"
      ],
      "metadata": {
        "id": "zFA80Iu7Ol4U",
        "outputId": "13975bfd-c7b0-4a9a-e9b6-63c0c0ee0621",
        "colab": {
          "base_uri": "https://localhost:8080/",
          "height": 37
        }
      },
      "execution_count": 220,
      "outputs": [
        {
          "output_type": "execute_result",
          "data": {
            "text/plain": [
              "8.21051177665153"
            ],
            "text/latex": "$\\displaystyle 8.21051177665153$"
          },
          "metadata": {},
          "execution_count": 220
        }
      ]
    },
    {
      "cell_type": "code",
      "source": [
        "#Tiempo Pico\n",
        "tp.subs(RLC)"
      ],
      "metadata": {
        "id": "m4XR204sOqbk",
        "outputId": "0df0f4b6-48b8-4b7d-adaa-bbe7d13b6916",
        "colab": {
          "base_uri": "https://localhost:8080/",
          "height": 55
        }
      },
      "execution_count": 221,
      "outputs": [
        {
          "output_type": "execute_result",
          "data": {
            "text/plain": [
              "-√3⋅ⅈ⋅π \n",
              "────────\n",
              "   3    "
            ],
            "text/latex": "$\\displaystyle - \\frac{\\sqrt{3} i \\pi}{3}$"
          },
          "metadata": {},
          "execution_count": 221
        }
      ]
    },
    {
      "cell_type": "code",
      "source": [
        "#Tiempo establecimiento\n",
        "ts.subs(RLC)"
      ],
      "metadata": {
        "id": "YepK4PBBOzmU",
        "outputId": "0f76a61a-94b7-4bd8-dc4d-85f56b3bb4ba",
        "colab": {
          "base_uri": "https://localhost:8080/",
          "height": 51
        }
      },
      "execution_count": 222,
      "outputs": [
        {
          "output_type": "execute_result",
          "data": {
            "text/plain": [
              "3/2"
            ],
            "text/latex": "$\\displaystyle \\frac{3}{2}$"
          },
          "metadata": {},
          "execution_count": 222
        }
      ]
    }
  ]
}