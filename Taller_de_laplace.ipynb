{
  "nbformat": 4,
  "nbformat_minor": 0,
  "metadata": {
    "colab": {
      "provenance": [],
      "include_colab_link": true
    },
    "kernelspec": {
      "display_name": "Python 3",
      "language": "python",
      "name": "python3"
    },
    "language_info": {
      "codemirror_mode": {
        "name": "ipython",
        "version": 3
      },
      "file_extension": ".py",
      "mimetype": "text/x-python",
      "name": "python",
      "nbconvert_exporter": "python",
      "pygments_lexer": "ipython3",
      "version": "3.7.1"
    }
  },
  "cells": [
    {
      "cell_type": "markdown",
      "metadata": {
        "id": "view-in-github",
        "colab_type": "text"
      },
      "source": [
        "<a href=\"https://colab.research.google.com/github/FERNANDOBUCHELLY/ejemplo/blob/main/Taller_de_laplace.ipynb\" target=\"_parent\"><img src=\"https://colab.research.google.com/assets/colab-badge.svg\" alt=\"Open In Colab\"/></a>"
      ]
    },
    {
      "cell_type": "markdown",
      "source": [
        "UNIVERSIDAD NACIONAL DE COLOMBIA\n",
        "\n",
        "***TALLER LAPLACE:***\n",
        "\n",
        "LUIS FERNANDO CASTRO BUCHELLY\n",
        "\n",
        "c.c. 1122786100"
      ],
      "metadata": {
        "id": "Mw7LN0kCSZmm"
      }
    },
    {
      "cell_type": "markdown",
      "metadata": {
        "id": "K7eH5_ea7k2Q"
      },
      "source": [
        "## Análisis de un péndulo elástico amortiguado\n",
        "\n",
        "- El [péndulo elástico](https://en.wikipedia.org/wiki/Spring_pendulum) amortiguado es un ejemplo de un sistema mecánico que puede ser modelado por una ecuación diferencial ordinaria lineal (EDO) con coeficientes constantes.\n",
        "\n",
        "- Desde el punto de vista de la teoría de señales y sistemas, puede ser interpretado como un sistema lineal invariante en el tiempo (SLIT).\n",
        "\n",
        "- Las propiedades mecánicas del péndulo elástico amortiguado se analizan utilizando la teoría de los SLIT. La configuración mecánica subyacente se muestra en la siguiente figura:\n",
        "\n",
        "![Péndulo Elástico Amortiguado](https://github.com/amalvarezme/SenalesSistemas/blob/master/4_Transformada_Laplace/damped_spring.png?raw=1)\n",
        "\n",
        "- Un cuerpo rígido de masa $m$ está montado sobre un resorte con rigidez $k$ que está conectado al suelo.\n",
        "\n",
        "- Un amortiguador con un coeficiente de amortiguamiento $c$ se monta paralelo al resorte para modelar la fricción presente en el sistema.\n",
        "\n",
        "- Se asume que el movimiento de la masa a lo largo del tiempo está restringido al eje vertical, aquí indicado por $y$. Además, se asume que la masa no se mueve para $ t <0 $.\n",
        "\n",
        "- Denotando el desplazamiento de la masa con respecto al tiempo con $y(t)$, las condiciones iniciales se formulan como $y(t)=0$ y $\\frac{d y(t)}{dt}=0$ para $t<0$.\n",
        "\n",
        "- Se utilizarán los siguientes valores $m = 0.1$,  $c = 0.1$ y $k = 2.5$ para ilustrar de manera más sencilla el siguiente ejemplo."
      ]
    },
    {
      "cell_type": "markdown",
      "metadata": {
        "id": "LujI96aT7k2T"
      },
      "source": [
        "### Ecuación diferencial\n",
        "\n",
        "La ecuación diferencia del sistema mecánico se obtiene al considerar el equilibrio de fuerzas ejercidas sobre la masa:\n",
        "\n",
        "\\begin{equation}\n",
        "F_\\text{S}(t) + F_\\text{F}(t) + F_\\text{I}(t) = F_\\text{E}(t)\n",
        "\\end{equation}\n",
        "\n",
        "Donde $F_\\text{E}(t) $ denota una fuerza externa que actúa sobre la masa. La fuerza $F_\\text{S}(t)$ inducida por el resorte está dada por la [ley de Hooke](https://en.wikipedia.org/wiki/Hooke%27s_law)\n",
        "\n",
        "\\begin{equation}\n",
        "F_\\text{S}(t) = k y(t)\n",
        "\\end{equation}\n",
        "\n",
        "Es común modelar la fuerza de fricción $F_\\text{F}(t)$ inducida por el amortiguador de manera proporcional a la velocidad de la masa\n",
        "\n",
        "\\begin{equation}\n",
        "F_\\text{F}(t) = c \\frac{d y(t)}{dt}\n",
        "\\end{equation}\n",
        "\n",
        "La fuerza inercial $F_\\text{I}(t)$ debida a la aceleración de la masa se da como\n",
        "\n",
        "\\begin{equation}\n",
        "F_\\text{I}(t) = m \\frac{d^2 y(t)}{dt^2}\n",
        "\\end{equation}\n",
        "\n",
        "Al introducir las fuerzas anteriormente halladas en el equilibrio de fuerzas se obtiene la ecuación diferencial que describe el desplazamiento del péndulo elástico amortiguado\n",
        "\n",
        "\\begin{equation}\n",
        "m \\frac{d^2 y(t)}{dt^2} + c \\frac{d y(t)}{dt} + k y(t) = F_\\text{E}(t)\n",
        "\\end{equation}\n",
        "\n",
        "Como consecuencia de la fuerza externa.\n",
        "\n",
        "La ecuación anterior constituye una EDO con coeficientes constantes. Puede interpretarse como un SLTI con la fuerza externa $x(t)=F_\\text{E}(t)$ como señal de entrada y el desplazamiento de la masa como la señal de salida $y(t)$."
      ]
    },
    {
      "cell_type": "markdown",
      "metadata": {
        "id": "98coA2j47k2W"
      },
      "source": [
        "### Comparación con la red eléctrica\n",
        "\n",
        "Comparando las EDO del péndulo elástico amortiguado y el circuito RLC, se tiene que ambos constituyen una EDO de segundo orden con coeficientes constantes.\n",
        "\n",
        "La división de la EDO del circuito por la constante $C$ resulta en:\n",
        "\n",
        "\\begin{equation}\n",
        "L \\frac{d^2 u_\\text{o}(t)}{dt^2} + R \\frac{d u_\\text{o}(t)}{dt} + \\frac{1}{C} u_\\text{o}(t) = \\frac{1}{C} u_\\text{i}(t)\n",
        "\\end{equation}\n",
        "\n",
        "Donde $u_\\text{i}(t)$ y $u_\\text{o}(t)$ denotan el voltaje de entrada y salida del circuito respesctivamente.\n",
        "\n",
        "La comparación de la EDO anterior con la del péndulo elástico amortiguado produce [equivalencia entre sistemas](https://en.wikipedia.org/wiki/System_equivalence) así:\n",
        "\n",
        "|                         | Circuito RLC | Péndulo elástico                          |\n",
        "|-------------------------|------------------------------------|-------------------------------------------|\n",
        "| Señal de entrada $x(t)$ | $u_\\text{i}(t) = F_\\text{E}(t) C$  | $F_\\text{E}(t) = \\frac{u_\\text{i}(t)}{C}$ |\n",
        "| Señal de salida $y(t)$  | $u_\\text{o}(t)$                    | $y(t)$                                    |\n",
        "|                         | $L=m$                              | $m=L$                                     |\n",
        "|                         | $R=c$                              | $c=R$                                     |\n",
        "|                         | $C=\\frac{1}{k}$                    | $k=\\frac{1}{C}$                           |"
      ]
    },
    {
      "cell_type": "markdown",
      "metadata": {
        "id": "45ywl0jG7k2Z"
      },
      "source": [
        "### Respuesta al Impulso\n",
        "\n",
        "El SLIT correspondiente al péndulo puede ser caracterizado por su respuesta al impulso $h(t)$. Se define como la salida del sistema ante una entra $x(t) = \\delta(t)$ en la entrada. La respuesta al impulso caracteriza el movimiento $y(t)$ de la masa ante un evento.\n",
        "\n",
        "Primero, se define la EDO del péndulo elástico amortiguado con `SymPy`"
      ]
    },
    {
      "cell_type": "code",
      "metadata": {
        "colab": {
          "base_uri": "https://localhost:8080/",
          "height": 54
        },
        "id": "9hIv-Tl-7k2b",
        "outputId": "7da34625-6a5f-439f-fc34-27b7c04ed64f"
      },
      "source": [
        "%matplotlib inline\n",
        "import sympy as sym\n",
        "sym.init_printing()\n",
        "\n",
        "t, m, c, k = sym.symbols('t m c k', real=True)\n",
        "x = sym.Function('x')(t)\n",
        "y = sym.Function('y')(t)\n",
        "\n",
        "ode = sym.Eq(m*y.diff(t, 2) + c*y.diff(t) + k*y, x)\n",
        "ode"
      ],
      "execution_count": 68,
      "outputs": [
        {
          "output_type": "execute_result",
          "data": {
            "text/plain": [
              "                         2              \n",
              "  d                     d               \n",
              "c⋅──(y(t)) + k⋅y(t) + m⋅───(y(t)) = x(t)\n",
              "  dt                      2             \n",
              "                        dt              "
            ],
            "text/latex": "$\\displaystyle c \\frac{d}{d t} y{\\left(t \\right)} + k y{\\left(t \\right)} + m \\frac{d^{2}}{d t^{2}} y{\\left(t \\right)} = x{\\left(t \\right)}$"
          },
          "metadata": {},
          "execution_count": 68
        }
      ]
    },
    {
      "cell_type": "markdown",
      "metadata": {
        "id": "6Q8fhKUT7k2q"
      },
      "source": [
        "Se guardan los valores de las constantes en un diccionario para posteriores sustituciones"
      ]
    },
    {
      "cell_type": "code",
      "metadata": {
        "colab": {
          "base_uri": "https://localhost:8080/",
          "height": 58
        },
        "id": "OQg6lok37k2s",
        "outputId": "8a6f4b18-3661-44d6-d266-06f10bcdaa1d"
      },
      "source": [
        "mck = {m: 0.1, c: sym.Rational('.1'), k: sym.Rational('2.5')}\n",
        "mck"
      ],
      "execution_count": 69,
      "outputs": [
        {
          "output_type": "execute_result",
          "data": {
            "text/plain": [
              "{c: 1/10, k: 5/2, m: 0.1}"
            ],
            "text/latex": "$\\displaystyle \\left\\{ c : \\frac{1}{10}, \\  k : \\frac{5}{2}, \\  m : 0.1\\right\\}$"
          },
          "metadata": {},
          "execution_count": 69
        }
      ]
    },
    {
      "cell_type": "markdown",
      "metadata": {
        "id": "mol_ZwPs7k21"
      },
      "source": [
        "La respuesta al impulso se calcula al resolver la EDO"
      ]
    },
    {
      "cell_type": "code",
      "metadata": {
        "colab": {
          "base_uri": "https://localhost:8080/",
          "height": 71
        },
        "id": "k7dmJ1Os7k23",
        "outputId": "5b9fe7a1-f6b4-48ec-ebf4-b0171061b3d1"
      },
      "source": [
        "solution_h = sym.dsolve(ode.subs(x, sym.DiracDelta(t)).subs(y, sym.Function('h')(t)))\n",
        "solution_h"
      ],
      "execution_count": 70,
      "outputs": [
        {
          "output_type": "execute_result",
          "data": {
            "text/plain": [
              "                                                                         ⎛        ____________⎞    ↪\n",
              "             ⎛        ____________⎞          ⎛       ____________⎞       ⎜       ╱  2         ⎟    ↪\n",
              "             ⎜       ╱  2         ⎟          ⎜      ╱  2         ⎟     t⋅⎝-c + ╲╱  c  - 4⋅k⋅m ⎠    ↪\n",
              "           t⋅⎝-c + ╲╱  c  - 4⋅k⋅m ⎠       -t⋅⎝c + ╲╱  c  - 4⋅k⋅m ⎠     ────────────────────────    ↪\n",
              "           ────────────────────────       ─────────────────────────              2⋅m               ↪\n",
              "                     2⋅m                             2⋅m              ℯ                        ⋅θ( ↪\n",
              "h(t) = C₁⋅ℯ                         + C₂⋅ℯ                          + ──────────────────────────── ↪\n",
              "                                                                                ____________       ↪\n",
              "                                                                               ╱  2                ↪\n",
              "                                                                             ╲╱  c  - 4⋅k⋅m        ↪\n",
              "\n",
              "↪          ⎛       ____________⎞      \n",
              "↪          ⎜      ╱  2         ⎟      \n",
              "↪       -t⋅⎝c + ╲╱  c  - 4⋅k⋅m ⎠      \n",
              "↪       ─────────────────────────     \n",
              "↪                  2⋅m                \n",
              "↪ t)   ℯ                         ⋅θ(t)\n",
              "↪ ── - ───────────────────────────────\n",
              "↪                 ____________        \n",
              "↪                ╱  2                 \n",
              "↪              ╲╱  c  - 4⋅k⋅m         "
            ],
            "text/latex": "$\\displaystyle h{\\left(t \\right)} = C_{1} e^{\\frac{t \\left(- c + \\sqrt{c^{2} - 4 k m}\\right)}{2 m}} + C_{2} e^{- \\frac{t \\left(c + \\sqrt{c^{2} - 4 k m}\\right)}{2 m}} + \\frac{e^{\\frac{t \\left(- c + \\sqrt{c^{2} - 4 k m}\\right)}{2 m}} \\theta\\left(t\\right)}{\\sqrt{c^{2} - 4 k m}} - \\frac{e^{- \\frac{t \\left(c + \\sqrt{c^{2} - 4 k m}\\right)}{2 m}} \\theta\\left(t\\right)}{\\sqrt{c^{2} - 4 k m}}$"
          },
          "metadata": {},
          "execution_count": 70
        }
      ]
    },
    {
      "cell_type": "markdown",
      "metadata": {
        "id": "iAwXOyCd7k3C"
      },
      "source": [
        "Las constantes de integración $C_1$ y $C_2$ se determinan a partir de las condiciones iniciales $y(t) = 0$ y $\\frac{d y(t)}{dt}=0$ para $t<0$."
      ]
    },
    {
      "cell_type": "code",
      "metadata": {
        "colab": {
          "base_uri": "https://localhost:8080/",
          "height": 38
        },
        "id": "WOiIJDqA7k3E",
        "outputId": "1d444d2c-dd34-4df1-e731-44764c4ee3e2"
      },
      "source": [
        "integration_constants = sym.solve( (solution_h.rhs.limit(t, 0, '-'), solution_h.rhs.diff(t).limit(t, 0, '-')), ['C1', 'C2'] )\n",
        "integration_constants"
      ],
      "execution_count": 71,
      "outputs": [
        {
          "output_type": "execute_result",
          "data": {
            "text/plain": [
              "{C₁: 0, C₂: 0}"
            ],
            "text/latex": "$\\displaystyle \\left\\{ C_{1} : 0, \\  C_{2} : 0\\right\\}$"
          },
          "metadata": {},
          "execution_count": 71
        }
      ]
    },
    {
      "cell_type": "markdown",
      "metadata": {
        "id": "aY7TZjU27k3N"
      },
      "source": [
        "La sustitución de los valores de las constantes de integración $C_1$ y $C_2$ en el resultado anterior, produce la respuesta al impulso del sistema mecánico"
      ]
    },
    {
      "cell_type": "code",
      "metadata": {
        "colab": {
          "base_uri": "https://localhost:8080/",
          "height": 71
        },
        "id": "BvMdOUkj7k3P",
        "outputId": "a7a019d7-315a-477a-a219-6a60d1d6730f"
      },
      "source": [
        "h = solution_h.subs(integration_constants)\n",
        "h"
      ],
      "execution_count": 72,
      "outputs": [
        {
          "output_type": "execute_result",
          "data": {
            "text/plain": [
              "          ⎛        ____________⎞            ⎛       ____________⎞      \n",
              "          ⎜       ╱  2         ⎟            ⎜      ╱  2         ⎟      \n",
              "        t⋅⎝-c + ╲╱  c  - 4⋅k⋅m ⎠         -t⋅⎝c + ╲╱  c  - 4⋅k⋅m ⎠      \n",
              "        ────────────────────────         ─────────────────────────     \n",
              "                  2⋅m                               2⋅m                \n",
              "       ℯ                        ⋅θ(t)   ℯ                         ⋅θ(t)\n",
              "h(t) = ────────────────────────────── - ───────────────────────────────\n",
              "                 ____________                      ____________        \n",
              "                ╱  2                              ╱  2                 \n",
              "              ╲╱  c  - 4⋅k⋅m                    ╲╱  c  - 4⋅k⋅m         "
            ],
            "text/latex": "$\\displaystyle h{\\left(t \\right)} = \\frac{e^{\\frac{t \\left(- c + \\sqrt{c^{2} - 4 k m}\\right)}{2 m}} \\theta\\left(t\\right)}{\\sqrt{c^{2} - 4 k m}} - \\frac{e^{- \\frac{t \\left(c + \\sqrt{c^{2} - 4 k m}\\right)}{2 m}} \\theta\\left(t\\right)}{\\sqrt{c^{2} - 4 k m}}$"
          },
          "metadata": {},
          "execution_count": 72
        }
      ]
    },
    {
      "cell_type": "markdown",
      "metadata": {
        "id": "jVWDPU6W7k3Z"
      },
      "source": [
        "Se grafica la respuesta para los valores de $m$, $c$ y $k$ definidas anteriormente"
      ]
    },
    {
      "cell_type": "code",
      "metadata": {
        "colab": {
          "base_uri": "https://localhost:8080/",
          "height": 487
        },
        "id": "_gA-N1v47k3b",
        "outputId": "ec9055e1-180f-44bd-d310-739e5cacba2f"
      },
      "source": [
        "sym.plot(h.rhs.subs(mck), (t,0,12), ylabel=r'h(t)');"
      ],
      "execution_count": 73,
      "outputs": [
        {
          "output_type": "display_data",
          "data": {
            "text/plain": [
              "<Figure size 640x480 with 1 Axes>"
            ],
            "image/png": "[encoded data removed]"
          },
          "metadata": {}
        }
      ]
    },
    {
      "cell_type": "markdown",
      "metadata": {
        "id": "RBSU-Q3l7k3m"
      },
      "source": [
        "### Función de Transferencia\n",
        "\n",
        "Para una señal exponencial de entrada $x(t)=e^{st}$, la función de transferencia $H(s)$ representa el peso de la entrada, tal que $y(t) = H(s) \\cdot e^{s t}$. La función de transferencia se obtiene al introducir $x(t)$ y $y(t)$ en la EDO y resolver para $H(s)$"
      ]
    },
    {
      "cell_type": "code",
      "metadata": {
        "colab": {
          "base_uri": "https://localhost:8080/",
          "height": 52
        },
        "id": "8SK-CphO7k3o",
        "outputId": "520c8b21-d579-4982-e9ef-2af614f63e25"
      },
      "source": [
        "s = sym.symbols('s')\n",
        "H = sym.Function('H')(s)\n",
        "\n",
        "H, = sym.solve(ode.subs(x, sym.exp(s*t)).subs(y, H*sym.exp(s*t)).doit(), H)\n",
        "H"
      ],
      "execution_count": 74,
      "outputs": [
        {
          "output_type": "execute_result",
          "data": {
            "text/plain": [
              "      1       \n",
              "──────────────\n",
              "             2\n",
              "c⋅s + k + m⋅s "
            ],
            "text/latex": "$\\displaystyle \\frac{1}{c s + k + m s^{2}}$"
          },
          "metadata": {},
          "execution_count": 74
        }
      ]
    },
    {
      "cell_type": "markdown",
      "metadata": {
        "id": "DxCLfu7e7k3v"
      },
      "source": [
        "Las características de transferencia de un SLIT para señales exponenciales armónicas $e^{j\\omega}=\\cos(\\omega t)+j\\sin(\\omega t)$ son de especial interés en el análisis de sistemas resonantes.\n",
        "\n",
        "Se pueden derivar de $H(s)$ sustituyendo la frecuencia compleja $s$ por $s=j\\omega$. La función de transferencia resultante $H(j\\omega)$ proporciona la atenuación y la fase que el sistema agrega a una señal de entrada armónica."
      ]
    },
    {
      "cell_type": "code",
      "metadata": {
        "colab": {
          "base_uri": "https://localhost:8080/",
          "height": 52
        },
        "id": "M71QaIcm7k3w",
        "outputId": "5671ff08-6329-4529-b8f7-429f7021a8df"
      },
      "source": [
        "w = sym.symbols('omega', real=True)\n",
        "\n",
        "Hjw = H.subs(s, sym.I * w)\n",
        "Hjw"
      ],
      "execution_count": 75,
      "outputs": [
        {
          "output_type": "execute_result",
          "data": {
            "text/plain": [
              "       1        \n",
              "────────────────\n",
              "               2\n",
              "ⅈ⋅c⋅ω + k - m⋅ω "
            ],
            "text/latex": "$\\displaystyle \\frac{1}{i c \\omega + k - m \\omega^{2}}$"
          },
          "metadata": {},
          "execution_count": 75
        }
      ]
    },
    {
      "cell_type": "markdown",
      "metadata": {
        "id": "8b87wEpL7k34"
      },
      "source": [
        "La magnitud de la función de transferencia $|H(j\\omega)|$ se grafica para los valores de los parámetros dados anteriormente"
      ]
    },
    {
      "cell_type": "code",
      "metadata": {
        "id": "HiYpg_Vd7k36",
        "outputId": "ff773a16-6c45-4477-febe-cd281f8dbddc",
        "colab": {
          "base_uri": "https://localhost:8080/",
          "height": 485
        }
      },
      "source": [
        "sym.plot(abs(Hjw.subs(mck)), (w, -15, 15), ylabel=r'$|H(j \\omega)|$', xlabel=r'$\\omega$');"
      ],
      "execution_count": 76,
      "outputs": [
        {
          "output_type": "display_data",
          "data": {
            "text/plain": [
              "<Figure size 640x480 with 1 Axes>"
            ],
            "image/png": "[encoded data removed]"
          },
          "metadata": {}
        }
      ]
    },
    {
      "cell_type": "markdown",
      "metadata": {
        "id": "U82rDJ-J7k4B"
      },
      "source": [
        "Al inspeccionar la magnitud de la función de transferencia, se hace evidente que el péndulo del resorte amortiguado muestra resonancias (picos máximos) para dos frecuencias angulares específicas. Estas frecuencias de resonancia $\\omega_0$ se calculan desde los valores extremos de $|H(j\\omega)|$. Primero se calcula la derivada de $|H(j\\omega)|$ con respecto a $\\omega$ y luego se igual a cero"
      ]
    },
    {
      "cell_type": "code",
      "metadata": {
        "colab": {
          "base_uri": "https://localhost:8080/",
          "height": 81
        },
        "id": "JS9oWlIZ7k4D",
        "outputId": "b9d5da59-99a9-4f5a-b1e1-40a4e0b2a706"
      },
      "source": [
        "extrema = sym.solve(sym.Eq(sym.diff(abs(Hjw), w),0),w)\n",
        "extrema"
      ],
      "execution_count": 77,
      "outputs": [
        {
          "output_type": "execute_result",
          "data": {
            "text/plain": [
              "⎡         ____________        ____________⎤\n",
              "⎢        ╱    2              ╱    2       ⎥\n",
              "⎢       ╱    c              ╱    c        ⎥\n",
              "⎢   -  ╱   - ── + k⋅m      ╱   - ── + k⋅m ⎥\n",
              "⎢    ╲╱      2           ╲╱      2        ⎥\n",
              "⎢0, ───────────────────, ─────────────────⎥\n",
              "⎣            m                   m        ⎦"
            ],
            "text/latex": "$\\displaystyle \\left[ 0, \\  - \\frac{\\sqrt{- \\frac{c^{2}}{2} + k m}}{m}, \\  \\frac{\\sqrt{- \\frac{c^{2}}{2} + k m}}{m}\\right]$"
          },
          "metadata": {},
          "execution_count": 77
        }
      ]
    },
    {
      "cell_type": "markdown",
      "metadata": {
        "id": "BUr9MQz17k4L"
      },
      "source": [
        "Para los máximos de la función de transferencia solo es de interés el segundo y el tercer extremo"
      ]
    },
    {
      "cell_type": "code",
      "metadata": {
        "colab": {
          "base_uri": "https://localhost:8080/",
          "height": 81
        },
        "id": "SY5BAevS7k4N",
        "outputId": "bce9b458-94a6-45a0-f655-46d2b338b9c2"
      },
      "source": [
        "w0 = extrema[1:3]\n",
        "w0"
      ],
      "execution_count": 78,
      "outputs": [
        {
          "output_type": "execute_result",
          "data": {
            "text/plain": [
              "⎡      ____________        ____________⎤\n",
              "⎢     ╱    2              ╱    2       ⎥\n",
              "⎢    ╱    c              ╱    c        ⎥\n",
              "⎢-  ╱   - ── + k⋅m      ╱   - ── + k⋅m ⎥\n",
              "⎢ ╲╱      2           ╲╱      2        ⎥\n",
              "⎢───────────────────, ─────────────────⎥\n",
              "⎣         m                   m        ⎦"
            ],
            "text/latex": "$\\displaystyle \\left[ - \\frac{\\sqrt{- \\frac{c^{2}}{2} + k m}}{m}, \\  \\frac{\\sqrt{- \\frac{c^{2}}{2} + k m}}{m}\\right]$"
          },
          "metadata": {},
          "execution_count": 78
        }
      ]
    },
    {
      "cell_type": "markdown",
      "metadata": {
        "id": "3z6o5V4w7k4W"
      },
      "source": [
        "Las frecuencias de resonancia se calculan para los valores de $m$, $c$ y $k$ dados anteriormente"
      ]
    },
    {
      "cell_type": "code",
      "metadata": {
        "colab": {
          "base_uri": "https://localhost:8080/",
          "height": 37
        },
        "id": "h0iYkA-W7k4X",
        "outputId": "a7179578-e060-4998-c29a-f8afc88430d0"
      },
      "source": [
        "[w00.subs(mck) for w00 in w0]"
      ],
      "execution_count": 79,
      "outputs": [
        {
          "output_type": "execute_result",
          "data": {
            "text/plain": [
              "[-4.94974746830583, 4.94974746830583]"
            ],
            "text/latex": "$\\displaystyle \\left[ -4.94974746830583, \\  4.94974746830583\\right]$"
          },
          "metadata": {},
          "execution_count": 79
        }
      ]
    },
    {
      "cell_type": "markdown",
      "metadata": {
        "id": "BiebSBR67k4c"
      },
      "source": [
        "La fase de la función de transferencia $\\varphi (j\\omega)$ se calcula y grafica para los valores específicos de los elementos dados anteriormente"
      ]
    },
    {
      "cell_type": "code",
      "metadata": {
        "colab": {
          "base_uri": "https://localhost:8080/",
          "height": 487
        },
        "id": "rzvMK_Qh7k4d",
        "outputId": "f1ac8b09-e4ea-4aef-a3c4-82a428399865"
      },
      "source": [
        "phi = sym.arg(Hjw)\n",
        "sym.plot(phi.subs(mck), (w, -15, 15), ylabel=r'$\\varphi(j \\omega)$', xlabel=r'$\\omega$');"
      ],
      "execution_count": 80,
      "outputs": [
        {
          "output_type": "display_data",
          "data": {
            "text/plain": [
              "<Figure size 640x480 with 1 Axes>"
            ],
            "image/png": "[encoded data removed]"
          },
          "metadata": {}
        }
      ]
    },
    {
      "cell_type": "markdown",
      "source": [
        "**PUNTO 2**\n",
        "\n",
        "SUBAMORTIGUADO\n",
        "\n",
        "\n"
      ],
      "metadata": {
        "id": "2Ak-EeuOS2HP"
      }
    },
    {
      "cell_type": "code",
      "source": [
        "!pip install sympy --upgrade #actualizar sympy para usar módulo de control"
      ],
      "metadata": {
        "colab": {
          "base_uri": "https://localhost:8080/"
        },
        "id": "eyjDelgDS6AJ",
        "outputId": "a5c66039-222f-47df-96a4-5cc732c3b936"
      },
      "execution_count": 81,
      "outputs": [
        {
          "output_type": "stream",
          "name": "stdout",
          "text": [
            "Requirement already satisfied: sympy in /usr/local/lib/python3.11/dist-packages (1.13.3)\n",
            "Requirement already satisfied: mpmath<1.4,>=1.1.0 in /usr/local/lib/python3.11/dist-packages (from sympy) (1.3.0)\n"
          ]
        }
      ]
    },
    {
      "cell_type": "code",
      "source": [
        "import sympy as sym\n",
        "import matplotlib.pyplot as plt\n",
        "import numpy as np\n",
        "sym.init_printing()\n",
        "\n",
        "s = sym.symbols('s', complex=True)\n",
        "t,R, L, C = sym.symbols('t R L C', positive=True, real=True)\n",
        "\n",
        "#Entrada de interés en Laplace\n",
        "X = 1/s # X(s) = 1 Respuesta entrada al escalon;\n",
        "#Forma canónica -> resolver según sistema propuesto\n",
        "wn = 1/sym.sqrt(L*C) #frecuencia natural\n",
        "xi = (R/2)*(sym.sqrt(C/L)) #factor amortiguamiento\n",
        "H = (1/(s**2 + 2*xi*wn*s + 1)) #función de transferencia en lazo cerrado slit 2 orden\n",
        "#Hlc = H/(1+H) #para lazo cerrado\n",
        "H"
      ],
      "metadata": {
        "colab": {
          "base_uri": "https://localhost:8080/",
          "height": 58
        },
        "id": "jPAtDO24TRt3",
        "outputId": "7f94b4ce-9ba4-4c61-d009-247912f799f7"
      },
      "execution_count": 82,
      "outputs": [
        {
          "output_type": "execute_result",
          "data": {
            "text/plain": [
              "     1      \n",
              "────────────\n",
              " 2       R⋅s\n",
              "s  + 1 + ───\n",
              "          L "
            ],
            "text/latex": "$\\displaystyle \\frac{1}{s^{2} + 1 + \\frac{R s}{L}}$"
          },
          "metadata": {},
          "execution_count": 82
        }
      ]
    },
    {
      "cell_type": "code",
      "source": [
        "#calcular polos\n",
        "p1 = ((-L/R) + sym.sqrt((L/R)**2-4*L*C))/(2*L*C)\n",
        "p2 = ((-L/R) - sym.sqrt((L/R)**2-4*L*C))/(2*L*C)\n",
        "p1"
      ],
      "metadata": {
        "colab": {
          "base_uri": "https://localhost:8080/",
          "height": 66
        },
        "id": "6QAWV4X9VjEw",
        "outputId": "182cd42c-c169-4630-8c14-ca26cd9d2835"
      },
      "execution_count": 83,
      "outputs": [
        {
          "output_type": "execute_result",
          "data": {
            "text/plain": [
              "            _____________\n",
              "           ╱           2 \n",
              "  L       ╱           L  \n",
              "- ─ +    ╱   -4⋅C⋅L + ── \n",
              "  R     ╱              2 \n",
              "      ╲╱              R  \n",
              "─────────────────────────\n",
              "          2⋅C⋅L          "
            ],
            "text/latex": "$\\displaystyle \\frac{- \\frac{L}{R} + \\sqrt{- 4 C L + \\frac{L^{2}}{R^{2}}}}{2 C L}$"
          },
          "metadata": {},
          "execution_count": 83
        }
      ]
    },
    {
      "cell_type": "code",
      "source": [
        "#evaluar valores RLC\n",
        "RLC = {R: 0.1, L: sym.Rational('0.1'), C: sym.Rational('0.1')}#valores utilizados para la simulación\n",
        "H.subs(RLC)"
      ],
      "metadata": {
        "colab": {
          "base_uri": "https://localhost:8080/",
          "height": 52
        },
        "id": "Zmlq31FdaGaq",
        "outputId": "c7d1d428-5b4e-4e9b-e173-ef514935ddd3"
      },
      "execution_count": 84,
      "outputs": [
        {
          "output_type": "execute_result",
          "data": {
            "text/plain": [
              "      1       \n",
              "──────────────\n",
              " 2            \n",
              "s  + 1.0⋅s + 1"
            ],
            "text/latex": "$\\displaystyle \\frac{1}{s^{2} + 1.0 s + 1}$"
          },
          "metadata": {},
          "execution_count": 84
        }
      ]
    },
    {
      "cell_type": "code",
      "source": [
        "print('p1=',p1.subs(RLC))\n",
        "print('p2=',p2.subs(RLC))\n",
        "print('xi=',xi.subs(RLC))\n",
        "print('omega_n=',wn.subs(RLC))"
      ],
      "metadata": {
        "colab": {
          "base_uri": "https://localhost:8080/"
        },
        "id": "kMBOikvZaaTL",
        "outputId": "e0d0735d-9851-41ea-80b7-6c4464bb5084"
      },
      "execution_count": 85,
      "outputs": [
        {
          "output_type": "stream",
          "name": "stdout",
          "text": [
            "p1= -1.01020514433644\n",
            "p2= -98.9897948556636\n",
            "xi= 0.0500000000000000\n",
            "omega_n= 10\n"
          ]
        }
      ]
    },
    {
      "cell_type": "code",
      "source": [
        "#gráfica polos y ceros paquete de control de sympy\n",
        "from sympy.physics.control.lti import TransferFunction\n",
        "from sympy.physics.control.control_plots import pole_zero_plot\n",
        "num,den=sym.fraction(H.subs(RLC))\n",
        "\n",
        "tf1 = TransferFunction(num, den, s)#numerados y denomirador función de transferencia con valores evaluados de RLC\n",
        "pole_zero_plot(tf1)"
      ],
      "metadata": {
        "colab": {
          "base_uri": "https://localhost:8080/",
          "height": 496
        },
        "id": "KBsQdqmTac26",
        "outputId": "86c49f74-3b4c-4bc8-a483-d1c97391a2c6"
      },
      "execution_count": 86,
      "outputs": [
        {
          "output_type": "display_data",
          "data": {
            "text/plain": [
              "<Figure size 640x480 with 1 Axes>"
            ],
            "image/png": "[encoded data removed]"
          },
          "metadata": {}
        }
      ]
    },
    {
      "cell_type": "code",
      "source": [
        "#salida según entrada de interés\n",
        "Y = H * X #función de transferencia del circuito multiplicada por X(s)\n",
        "#Función de salida\n",
        "Y"
      ],
      "metadata": {
        "colab": {
          "base_uri": "https://localhost:8080/",
          "height": 58
        },
        "id": "WUjXuQiVa6Cl",
        "outputId": "ee58b085-1287-47f7-9eb7-0d1e456e5e2f"
      },
      "execution_count": 87,
      "outputs": [
        {
          "output_type": "execute_result",
          "data": {
            "text/plain": [
              "       1        \n",
              "────────────────\n",
              "  ⎛ 2       R⋅s⎞\n",
              "s⋅⎜s  + 1 + ───⎟\n",
              "  ⎝          L ⎠"
            ],
            "text/latex": "$\\displaystyle \\frac{1}{s \\left(s^{2} + 1 + \\frac{R s}{L}\\right)}$"
          },
          "metadata": {},
          "execution_count": 87
        }
      ]
    },
    {
      "cell_type": "code",
      "source": [
        "#Función de salida en Laplace factorizada (fracciones parciales)\n",
        "Yp = Y.apart(s) # el comando apart factoriza la expresión simbólica\n",
        "Yp"
      ],
      "metadata": {
        "colab": {
          "base_uri": "https://localhost:8080/",
          "height": 53
        },
        "id": "E7AyjFxbbWTu",
        "outputId": "b01472cf-d3f3-4bbc-9afa-439f39c2a407"
      },
      "execution_count": 88,
      "outputs": [
        {
          "output_type": "execute_result",
          "data": {
            "text/plain": [
              "     L⋅s + R       1\n",
              "- ────────────── + ─\n",
              "     2             s\n",
              "  L⋅s  + L + R⋅s    "
            ],
            "text/latex": "$\\displaystyle - \\frac{L s + R}{L s^{2} + L + R s} + \\frac{1}{s}$"
          },
          "metadata": {},
          "execution_count": 88
        }
      ]
    },
    {
      "cell_type": "code",
      "source": [
        "#Modelo en el tiempo en función de RLC\n",
        "Ye = Yp\n",
        "#Se recorre cada fracción parcial según factorización para simplificar cálculos\n",
        "for j in range(len(Ye.args)):\n",
        "    if j==0:#primer elemento de la solucion\n",
        "      yt = sym.inverse_laplace_transform(Ye.args[j], s, t)\n",
        "    else: #siguientes elementos concatenados\n",
        "      yt+= sym.inverse_laplace_transform(Ye.args[j], s, t)\n",
        "yt"
      ],
      "metadata": {
        "colab": {
          "base_uri": "https://localhost:8080/",
          "height": 70
        },
        "id": "j2U8pgxubyLy",
        "outputId": "4e67e8bd-86bf-45b6-cc61-dde6d64f2e60"
      },
      "execution_count": 89,
      "outputs": [
        {
          "output_type": "execute_result",
          "data": {
            "text/plain": [
              "     -R⋅t     ⎛     ___________⎞                                            \n",
              "     ─────    ⎜    ╱    2    2 ⎟                                            \n",
              "      2⋅L     ⎜t⋅╲╱  4⋅L  - R  ⎟        -R⋅t                                \n",
              "  R⋅ℯ     ⋅sin⎜────────────────⎟        ─────    ⎛    _________   _________⎞\n",
              "              ⎝      2⋅L       ⎠         2⋅L     ⎜t⋅╲╱ 2⋅L - R ⋅╲╱ 2⋅L + R ⎟\n",
              "- ────────────────────────────── + 1 - ℯ     ⋅cos⎜─────────────────────────⎟\n",
              "             ___________                         ⎝           2⋅L           ⎠\n",
              "            ╱    2    2                                                     \n",
              "          ╲╱  4⋅L  - R                                                      "
            ],
            "text/latex": "$\\displaystyle - \\frac{R e^{- \\frac{R t}{2 L}} \\sin{\\left(\\frac{t \\sqrt{4 L^{2} - R^{2}}}{2 L} \\right)}}{\\sqrt{4 L^{2} - R^{2}}} + 1 - e^{- \\frac{R t}{2 L}} \\cos{\\left(\\frac{t \\sqrt{2 L - R} \\sqrt{2 L + R}}{2 L} \\right)}$"
          },
          "metadata": {},
          "execution_count": 89
        }
      ]
    },
    {
      "cell_type": "code",
      "source": [
        "#Modelo en el tiempo en función de RLC - substituir valores\n",
        "Ye = Yp.subs(RLC).apart(s)\n",
        "Ye\n"
      ],
      "metadata": {
        "colab": {
          "base_uri": "https://localhost:8080/",
          "height": 54
        },
        "id": "AW7m-Kcnb0fi",
        "outputId": "0c25781a-4056-41d4-f312-42a2403f82c1"
      },
      "execution_count": 90,
      "outputs": [
        {
          "output_type": "execute_result",
          "data": {
            "text/plain": [
              "  1.0⋅(s + 1)   1.0\n",
              "- ─────────── + ───\n",
              "   2             s \n",
              "  s  + s + 1       "
            ],
            "text/latex": "$\\displaystyle - \\frac{1.0 \\left(s + 1\\right)}{s^{2} + s + 1} + \\frac{1.0}{s}$"
          },
          "metadata": {},
          "execution_count": 90
        }
      ]
    },
    {
      "cell_type": "code",
      "source": [
        "#Se recorre cada fracción parcial según factorización para simplificar cálculos\n",
        "for j in range(len(Ye.args)):\n",
        "    if j==0:#primer elemento de la solucion\n",
        "      yt = sym.inverse_laplace_transform(Ye.args[j], s, t)\n",
        "    else: #siguientes elementos concatenados\n",
        "      yt+= sym.inverse_laplace_transform(Ye.args[j], s, t)\n",
        "yt"
      ],
      "metadata": {
        "colab": {
          "base_uri": "https://localhost:8080/",
          "height": 68
        },
        "id": "8KjeoDkGb8nj",
        "outputId": "1421cb48-fbf7-4c2d-ee8e-a36e0ca6cbad"
      },
      "execution_count": 91,
      "outputs": [
        {
          "output_type": "execute_result",
          "data": {
            "text/plain": [
              "                            -t                   -t           \n",
              "                            ───                  ───          \n",
              "                             2     ⎛√3⋅t⎞         2     ⎛√3⋅t⎞\n",
              "1.0 - 0.333333333333333⋅√3⋅ℯ   ⋅sin⎜────⎟ - 1.0⋅ℯ   ⋅cos⎜────⎟\n",
              "                                   ⎝ 2  ⎠               ⎝ 2  ⎠"
            ],
            "text/latex": "$\\displaystyle 1.0 - 0.333333333333333 \\sqrt{3} e^{- \\frac{t}{2}} \\sin{\\left(\\frac{\\sqrt{3} t}{2} \\right)} - 1.0 e^{- \\frac{t}{2}} \\cos{\\left(\\frac{\\sqrt{3} t}{2} \\right)}$"
          },
          "metadata": {},
          "execution_count": 91
        }
      ]
    },
    {
      "cell_type": "code",
      "source": [
        "#Gráfica de salida en el tiempo\n",
        "sym.plot(yt,(t,0,float((0.5/xi*wn).subs(RLC))),xlabel='$t$', ylabel='$y(t)$')\n",
        "plt.show()"
      ],
      "metadata": {
        "colab": {
          "base_uri": "https://localhost:8080/",
          "height": 484
        },
        "id": "UKxiytp7cGZ9",
        "outputId": "71673f25-6461-4ea3-e81d-d1a88aabbed1"
      },
      "execution_count": 92,
      "outputs": [
        {
          "output_type": "display_data",
          "data": {
            "text/plain": [
              "<Figure size 640x480 with 1 Axes>"
            ],
            "image/png": "[encoded data removed]"
          },
          "metadata": {}
        }
      ]
    },
    {
      "cell_type": "markdown",
      "source": [
        "**criticamente amortiguado**"
      ],
      "metadata": {
        "id": "Vz0B0_reGqj7"
      }
    },
    {
      "cell_type": "code",
      "source": [
        "#evaluar valores RLC\n",
        "RLC = {R: 2, L: sym.Rational('1'), C: sym.Rational('1')}#valores utilizados para la simulación\n",
        "H.subs(RLC)"
      ],
      "metadata": {
        "colab": {
          "base_uri": "https://localhost:8080/",
          "height": 52
        },
        "id": "mSWnaK3CJDxb",
        "outputId": "829106c8-2d94-427f-c773-f2370ac0b14e"
      },
      "execution_count": 93,
      "outputs": [
        {
          "output_type": "execute_result",
          "data": {
            "text/plain": [
              "     1      \n",
              "────────────\n",
              " 2          \n",
              "s  + 2⋅s + 1"
            ],
            "text/latex": "$\\displaystyle \\frac{1}{s^{2} + 2 s + 1}$"
          },
          "metadata": {},
          "execution_count": 93
        }
      ]
    },
    {
      "cell_type": "code",
      "source": [
        "print('p1=',p1.subs(RLC))\n",
        "print('p2=',p2.subs(RLC))\n",
        "print('xi=',xi.subs(RLC))\n",
        "print('omega_n=',wn.subs(RLC))"
      ],
      "metadata": {
        "colab": {
          "base_uri": "https://localhost:8080/"
        },
        "id": "7wiGB_WAJK1U",
        "outputId": "1b6c7f0d-c7fd-4042-aee7-fe63701182e6"
      },
      "execution_count": 94,
      "outputs": [
        {
          "output_type": "stream",
          "name": "stdout",
          "text": [
            "p1= -1/4 + sqrt(15)*I/4\n",
            "p2= -1/4 - sqrt(15)*I/4\n",
            "xi= 1\n",
            "omega_n= 1\n"
          ]
        }
      ]
    },
    {
      "cell_type": "code",
      "source": [
        "#gráfica polos y ceros paquete de control de sympy\n",
        "from sympy.physics.control.lti import TransferFunction\n",
        "from sympy.physics.control.control_plots import pole_zero_plot\n",
        "num,den=sym.fraction(H.subs(RLC))\n",
        "\n",
        "tf1 = TransferFunction(num, den, s)#numerados y denomirador función de transferencia con valores evaluados de RLC\n",
        "pole_zero_plot(tf1)"
      ],
      "metadata": {
        "colab": {
          "base_uri": "https://localhost:8080/",
          "height": 496
        },
        "id": "anJoGQbrJnU_",
        "outputId": "e3e75bec-e629-44a0-b0e9-c5d42882fa61"
      },
      "execution_count": 95,
      "outputs": [
        {
          "output_type": "display_data",
          "data": {
            "text/plain": [
              "<Figure size 640x480 with 1 Axes>"
            ],
            "image/png": "[encoded data removed]"
          },
          "metadata": {}
        }
      ]
    },
    {
      "cell_type": "code",
      "source": [
        "#salida según entrada de interés\n",
        "Y = H * X #función de transferencia del circuito multiplicada por X(s)\n",
        "#Función de salida\n",
        "Y"
      ],
      "metadata": {
        "colab": {
          "base_uri": "https://localhost:8080/",
          "height": 58
        },
        "id": "cA3eP_oxJtm4",
        "outputId": "93dbe693-5de6-489d-c501-eada8278bc90"
      },
      "execution_count": 96,
      "outputs": [
        {
          "output_type": "execute_result",
          "data": {
            "text/plain": [
              "       1        \n",
              "────────────────\n",
              "  ⎛ 2       R⋅s⎞\n",
              "s⋅⎜s  + 1 + ───⎟\n",
              "  ⎝          L ⎠"
            ],
            "text/latex": "$\\displaystyle \\frac{1}{s \\left(s^{2} + 1 + \\frac{R s}{L}\\right)}$"
          },
          "metadata": {},
          "execution_count": 96
        }
      ]
    },
    {
      "cell_type": "code",
      "source": [
        "#Función de salida en Laplace factorizada (fracciones parciales)\n",
        "Yp = Y.apart(s) # el comando apart factoriza la expresión simbólica\n",
        "Yp\n"
      ],
      "metadata": {
        "colab": {
          "base_uri": "https://localhost:8080/",
          "height": 53
        },
        "id": "n5nGXZs1Jzyu",
        "outputId": "aa7e0c78-95a1-42e6-d437-0ba53ba5681c"
      },
      "execution_count": 97,
      "outputs": [
        {
          "output_type": "execute_result",
          "data": {
            "text/plain": [
              "     L⋅s + R       1\n",
              "- ────────────── + ─\n",
              "     2             s\n",
              "  L⋅s  + L + R⋅s    "
            ],
            "text/latex": "$\\displaystyle - \\frac{L s + R}{L s^{2} + L + R s} + \\frac{1}{s}$"
          },
          "metadata": {},
          "execution_count": 97
        }
      ]
    },
    {
      "cell_type": "code",
      "source": [
        "#Modelo en el tiempo en función de RLC\n",
        "Ye = Yp\n",
        "#Se recorre cada fracción parcial según factorización para simplificar cálculos\n",
        "for j in range(len(Ye.args)):\n",
        "    if j==0:#primer elemento de la solucion\n",
        "      yt = sym.inverse_laplace_transform(Ye.args[j], s, t)\n",
        "    else: #siguientes elementos concatenados\n",
        "      yt+= sym.inverse_laplace_transform(Ye.args[j], s, t)\n",
        "yt"
      ],
      "metadata": {
        "colab": {
          "base_uri": "https://localhost:8080/",
          "height": 70
        },
        "id": "PqIy1gbnJ4gN",
        "outputId": "e4bc76dc-f0bd-4431-f0e7-97532bd906ae"
      },
      "execution_count": 98,
      "outputs": [
        {
          "output_type": "execute_result",
          "data": {
            "text/plain": [
              "     -R⋅t     ⎛     ___________⎞                                            \n",
              "     ─────    ⎜    ╱    2    2 ⎟                                            \n",
              "      2⋅L     ⎜t⋅╲╱  4⋅L  - R  ⎟        -R⋅t                                \n",
              "  R⋅ℯ     ⋅sin⎜────────────────⎟        ─────    ⎛    _________   _________⎞\n",
              "              ⎝      2⋅L       ⎠         2⋅L     ⎜t⋅╲╱ 2⋅L - R ⋅╲╱ 2⋅L + R ⎟\n",
              "- ────────────────────────────── + 1 - ℯ     ⋅cos⎜─────────────────────────⎟\n",
              "             ___________                         ⎝           2⋅L           ⎠\n",
              "            ╱    2    2                                                     \n",
              "          ╲╱  4⋅L  - R                                                      "
            ],
            "text/latex": "$\\displaystyle - \\frac{R e^{- \\frac{R t}{2 L}} \\sin{\\left(\\frac{t \\sqrt{4 L^{2} - R^{2}}}{2 L} \\right)}}{\\sqrt{4 L^{2} - R^{2}}} + 1 - e^{- \\frac{R t}{2 L}} \\cos{\\left(\\frac{t \\sqrt{2 L - R} \\sqrt{2 L + R}}{2 L} \\right)}$"
          },
          "metadata": {},
          "execution_count": 98
        }
      ]
    },
    {
      "cell_type": "code",
      "source": [
        "#Modelo en el tiempo en función de RLC - substituir valores\n",
        "Ye = Yp.subs(RLC).apart(s)\n",
        "Ye\n"
      ],
      "metadata": {
        "colab": {
          "base_uri": "https://localhost:8080/",
          "height": 58
        },
        "id": "-b4b3JXHJ8tg",
        "outputId": "4733630b-095a-43c4-bd94-c457eaeb13c3"
      },
      "execution_count": 99,
      "outputs": [
        {
          "output_type": "execute_result",
          "data": {
            "text/plain": [
              "    1        1       1\n",
              "- ───── - ──────── + ─\n",
              "  s + 1          2   s\n",
              "          (s + 1)     "
            ],
            "text/latex": "$\\displaystyle - \\frac{1}{s + 1} - \\frac{1}{\\left(s + 1\\right)^{2}} + \\frac{1}{s}$"
          },
          "metadata": {},
          "execution_count": 99
        }
      ]
    },
    {
      "cell_type": "code",
      "source": [
        "#Se recorre cada fracción parcial según factorización para simplificar cálculos\n",
        "for j in range(len(Ye.args)):\n",
        "    if j==0:#primer elemento de la solucion\n",
        "      yt = sym.inverse_laplace_transform(Ye.args[j], s, t)\n",
        "    else: #siguientes elementos concatenados\n",
        "      yt+= sym.inverse_laplace_transform(Ye.args[j], s, t)\n",
        "yt"
      ],
      "metadata": {
        "colab": {
          "base_uri": "https://localhost:8080/",
          "height": 38
        },
        "id": "o6YrTFpSKAu0",
        "outputId": "e1c924e7-cb17-4098-e640-1fda1f508449"
      },
      "execution_count": 100,
      "outputs": [
        {
          "output_type": "execute_result",
          "data": {
            "text/plain": [
              "     -t        -t\n",
              "- t⋅ℯ   + 1 - ℯ  "
            ],
            "text/latex": "$\\displaystyle - t e^{- t} + 1 - e^{- t}$"
          },
          "metadata": {},
          "execution_count": 100
        }
      ]
    },
    {
      "cell_type": "code",
      "source": [
        "#Gráfica de salida en el tiempo\n",
        "sym.plot(yt,(t,0,float((10/xi*wn).subs(RLC))),xlabel='$t$', ylabel='$y(t)$')\n",
        "plt.show()"
      ],
      "metadata": {
        "colab": {
          "base_uri": "https://localhost:8080/",
          "height": 484
        },
        "id": "Oo4I87HoKFs1",
        "outputId": "44919359-ccc8-4361-8c44-01bff93cb898"
      },
      "execution_count": 101,
      "outputs": [
        {
          "output_type": "display_data",
          "data": {
            "text/plain": [
              "<Figure size 640x480 with 1 Axes>"
            ],
            "image/png": "[encoded data removed]"
          },
          "metadata": {}
        }
      ]
    },
    {
      "cell_type": "markdown",
      "source": [
        "**sobreamortiguado**"
      ],
      "metadata": {
        "id": "PHd6JacDgx4w"
      }
    },
    {
      "cell_type": "code",
      "source": [
        "#evaluar valores RLC\n",
        "RLC = {R: 3, L: sym.Rational('1'), C: sym.Rational('1')}#valores utilizados para la simulación\n",
        "H.subs(RLC)"
      ],
      "metadata": {
        "colab": {
          "base_uri": "https://localhost:8080/",
          "height": 52
        },
        "id": "FmrLdYp0hOpw",
        "outputId": "5e040a86-38da-453e-cc98-2819a4aec2fc"
      },
      "execution_count": 102,
      "outputs": [
        {
          "output_type": "execute_result",
          "data": {
            "text/plain": [
              "     1      \n",
              "────────────\n",
              " 2          \n",
              "s  + 3⋅s + 1"
            ],
            "text/latex": "$\\displaystyle \\frac{1}{s^{2} + 3 s + 1}$"
          },
          "metadata": {},
          "execution_count": 102
        }
      ]
    },
    {
      "cell_type": "code",
      "source": [
        "print('p1=',p1.subs(RLC))\n",
        "print('p2=',p2.subs(RLC))\n",
        "print('xi=',xi.subs(RLC))\n",
        "print('omega_n=',wn.subs(RLC))"
      ],
      "metadata": {
        "colab": {
          "base_uri": "https://localhost:8080/"
        },
        "id": "vWOZwpp4haAI",
        "outputId": "7a4973cd-5475-4ff6-c497-e82de403ad23"
      },
      "execution_count": 103,
      "outputs": [
        {
          "output_type": "stream",
          "name": "stdout",
          "text": [
            "p1= -1/6 + sqrt(35)*I/6\n",
            "p2= -1/6 - sqrt(35)*I/6\n",
            "xi= 3/2\n",
            "omega_n= 1\n"
          ]
        }
      ]
    },
    {
      "cell_type": "code",
      "source": [
        "#gráfica polos y ceros paquete de control de sympy\n",
        "from sympy.physics.control.lti import TransferFunction\n",
        "from sympy.physics.control.control_plots import pole_zero_plot\n",
        "num,den=sym.fraction(H.subs(RLC))\n",
        "\n",
        "tf1 = TransferFunction(num, den, s)#numerados y denomirador función de transferencia con valores evaluados de RLC\n",
        "pole_zero_plot(tf1)"
      ],
      "metadata": {
        "colab": {
          "base_uri": "https://localhost:8080/",
          "height": 496
        },
        "id": "KsdknQu6hkE6",
        "outputId": "509439b7-7598-4b2a-89d7-00d7966e6d16"
      },
      "execution_count": 104,
      "outputs": [
        {
          "output_type": "display_data",
          "data": {
            "text/plain": [
              "<Figure size 640x480 with 1 Axes>"
            ],
            "image/png": "[encoded data removed]"
          },
          "metadata": {}
        }
      ]
    },
    {
      "cell_type": "code",
      "source": [
        "#salida según entrada de interés\n",
        "Y = H * X #función de transferencia del circuito multiplicada por X(s)\n",
        "#Función de salida\n",
        "Y"
      ],
      "metadata": {
        "colab": {
          "base_uri": "https://localhost:8080/",
          "height": 58
        },
        "id": "yrzlSNxZhtoc",
        "outputId": "ca461835-e22f-4253-d5f4-2976000c54cb"
      },
      "execution_count": 105,
      "outputs": [
        {
          "output_type": "execute_result",
          "data": {
            "text/plain": [
              "       1        \n",
              "────────────────\n",
              "  ⎛ 2       R⋅s⎞\n",
              "s⋅⎜s  + 1 + ───⎟\n",
              "  ⎝          L ⎠"
            ],
            "text/latex": "$\\displaystyle \\frac{1}{s \\left(s^{2} + 1 + \\frac{R s}{L}\\right)}$"
          },
          "metadata": {},
          "execution_count": 105
        }
      ]
    },
    {
      "cell_type": "code",
      "source": [
        "#Función de salida en Laplace factorizada (fracciones parciales)\n",
        "Yp = Y.apart(s) # el comando apart factoriza la expresión simbólica\n",
        "Yp\n"
      ],
      "metadata": {
        "colab": {
          "base_uri": "https://localhost:8080/",
          "height": 53
        },
        "id": "3x2_Si-zhxUV",
        "outputId": "0589e8f7-0a4f-41cf-a29f-cb1e84f6c22c"
      },
      "execution_count": 106,
      "outputs": [
        {
          "output_type": "execute_result",
          "data": {
            "text/plain": [
              "     L⋅s + R       1\n",
              "- ────────────── + ─\n",
              "     2             s\n",
              "  L⋅s  + L + R⋅s    "
            ],
            "text/latex": "$\\displaystyle - \\frac{L s + R}{L s^{2} + L + R s} + \\frac{1}{s}$"
          },
          "metadata": {},
          "execution_count": 106
        }
      ]
    },
    {
      "cell_type": "code",
      "source": [
        "#Modelo en el tiempo en función de RLC\n",
        "Ye = Yp\n",
        "#Se recorre cada fracción parcial según factorización para simplificar cálculos\n",
        "for j in range(len(Ye.args)):\n",
        "    if j==0:#primer elemento de la solucion\n",
        "      yt = sym.inverse_laplace_transform(Ye.args[j], s, t)\n",
        "    else: #siguientes elementos concatenados\n",
        "      yt+= sym.inverse_laplace_transform(Ye.args[j], s, t)\n",
        "yt"
      ],
      "metadata": {
        "colab": {
          "base_uri": "https://localhost:8080/",
          "height": 70
        },
        "id": "I32Zd_1Fh9n4",
        "outputId": "1a068d0b-33c4-4670-9bee-f34bd13b1dd8"
      },
      "execution_count": 107,
      "outputs": [
        {
          "output_type": "execute_result",
          "data": {
            "text/plain": [
              "     -R⋅t     ⎛     ___________⎞                                            \n",
              "     ─────    ⎜    ╱    2    2 ⎟                                            \n",
              "      2⋅L     ⎜t⋅╲╱  4⋅L  - R  ⎟        -R⋅t                                \n",
              "  R⋅ℯ     ⋅sin⎜────────────────⎟        ─────    ⎛    _________   _________⎞\n",
              "              ⎝      2⋅L       ⎠         2⋅L     ⎜t⋅╲╱ 2⋅L - R ⋅╲╱ 2⋅L + R ⎟\n",
              "- ────────────────────────────── + 1 - ℯ     ⋅cos⎜─────────────────────────⎟\n",
              "             ___________                         ⎝           2⋅L           ⎠\n",
              "            ╱    2    2                                                     \n",
              "          ╲╱  4⋅L  - R                                                      "
            ],
            "text/latex": "$\\displaystyle - \\frac{R e^{- \\frac{R t}{2 L}} \\sin{\\left(\\frac{t \\sqrt{4 L^{2} - R^{2}}}{2 L} \\right)}}{\\sqrt{4 L^{2} - R^{2}}} + 1 - e^{- \\frac{R t}{2 L}} \\cos{\\left(\\frac{t \\sqrt{2 L - R} \\sqrt{2 L + R}}{2 L} \\right)}$"
          },
          "metadata": {},
          "execution_count": 107
        }
      ]
    },
    {
      "cell_type": "code",
      "source": [
        "#Modelo en el tiempo en función de RLC - substituir valores\n",
        "Ye = Yp.subs(RLC).apart(s)\n",
        "Ye\n"
      ],
      "metadata": {
        "colab": {
          "base_uri": "https://localhost:8080/",
          "height": 52
        },
        "id": "bVk5yYAeiBFS",
        "outputId": "8ce29094-131c-444f-ddb9-4b8eeba7a608"
      },
      "execution_count": 108,
      "outputs": [
        {
          "output_type": "execute_result",
          "data": {
            "text/plain": [
              "     s + 3       1\n",
              "- ──────────── + ─\n",
              "   2             s\n",
              "  s  + 3⋅s + 1    "
            ],
            "text/latex": "$\\displaystyle - \\frac{s + 3}{s^{2} + 3 s + 1} + \\frac{1}{s}$"
          },
          "metadata": {},
          "execution_count": 108
        }
      ]
    },
    {
      "cell_type": "code",
      "source": [
        "#Se recorre cada fracción parcial según factorización para simplificar cálculos\n",
        "for j in range(len(Ye.args)):\n",
        "    if j==0:#primer elemento de la solucion\n",
        "      yt = sym.inverse_laplace_transform(Ye.args[j], s, t)\n",
        "    else: #siguientes elementos concatenados\n",
        "      yt+= sym.inverse_laplace_transform(Ye.args[j], s, t)\n",
        "yt"
      ],
      "metadata": {
        "colab": {
          "base_uri": "https://localhost:8080/",
          "height": 75
        },
        "id": "d2JHlzXJiD7A",
        "outputId": "e806e1b0-38dc-4e70-b9c2-887f02a13a85"
      },
      "execution_count": 109,
      "outputs": [
        {
          "output_type": "execute_result",
          "data": {
            "text/plain": [
              "          -3⋅t                                \n",
              "          ─────                               \n",
              "            2       ⎛√5⋅t⎞    -3⋅t            \n",
              "    3⋅√5⋅ℯ     ⋅sinh⎜────⎟    ─────           \n",
              "                    ⎝ 2  ⎠      2       ⎛√5⋅t⎞\n",
              "1 - ────────────────────── - ℯ     ⋅cosh⎜────⎟\n",
              "              5                         ⎝ 2  ⎠"
            ],
            "text/latex": "$\\displaystyle 1 - \\frac{3 \\sqrt{5} e^{- \\frac{3 t}{2}} \\sinh{\\left(\\frac{\\sqrt{5} t}{2} \\right)}}{5} - e^{- \\frac{3 t}{2}} \\cosh{\\left(\\frac{\\sqrt{5} t}{2} \\right)}$"
          },
          "metadata": {},
          "execution_count": 109
        }
      ]
    },
    {
      "cell_type": "code",
      "source": [
        "#Gráfica de salida en el tiempo\n",
        "sym.plot(yt,(t,0,float((20/xi*wn).subs(RLC))),xlabel='$t$', ylabel='$y(t)$')\n",
        "plt.show()"
      ],
      "metadata": {
        "colab": {
          "base_uri": "https://localhost:8080/",
          "height": 484
        },
        "id": "z0F9prZgiGz8",
        "outputId": "b3c5578a-8cb4-4018-b9d5-5ed7af625808"
      },
      "execution_count": 111,
      "outputs": [
        {
          "output_type": "display_data",
          "data": {
            "text/plain": [
              "<Figure size 640x480 with 1 Axes>"
            ],
            "image/png": "[encoded data removed]"
          },
          "metadata": {}
        }
      ]
    }
  ]
}