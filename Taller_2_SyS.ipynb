{
  "nbformat": 4,
  "nbformat_minor": 0,
  "metadata": {
    "colab": {
      "provenance": [],
      "authorship_tag": "ABX9TyOCHk7NdZwNqUU5A0czbkUT",
      "include_colab_link": true
    },
    "kernelspec": {
      "name": "python3",
      "display_name": "Python 3"
    },
    "language_info": {
      "name": "python"
    }
  },
  "cells": [
    {
      "cell_type": "markdown",
      "metadata": {
        "id": "view-in-github",
        "colab_type": "text"
      },
      "source": [
        "<a href=\"https://colab.research.google.com/github/FERNANDOBUCHELLY/ejemplo/blob/main/Taller_2_SyS.ipynb\" target=\"_parent\"><img src=\"https://colab.research.google.com/assets/colab-badge.svg\" alt=\"Open In Colab\"/></a>"
      ]
    },
    {
      "cell_type": "markdown",
      "source": [
        "Ejercicios series y transformada de fourier.\n",
        "\n",
        "Ejercicio 2.1:\n",
        "\n",
        "semejanzas:\n",
        "El objetivo principal de ambas es descomponer una señal en sus componentes de frecuencia. Esto significa expresar una señal como una suma de senos y cosenos (o exponenciales complejas) de diferentes frecuencias.\n",
        "\n",
        "Ambas transformaciones son lineales, lo que significa que la transformada de la suma de dos señales es igual a la suma de las transformadas de cada señal individual.\n",
        "\n",
        "Se basan en el principio de superposición, que establece que la respuesta de un sistema lineal a una suma de entradas es igual a la suma de las respuestas a cada entrada individual.\n",
        "\n",
        "Diferencias:\n",
        "\n",
        "Dentro de las Series de Fourier, existen diferentes formas de representación:\n",
        "\n",
        "Expresa la señal periódica como una suma de senos y cosenos con coeficientes reales (a<sub>n</sub> y b<sub>n</sub>).\n",
        "\n",
        "Expresa la señal periódica como una suma de exponenciales complejas con coeficientes complejos (c<sub>n</sub>). Esta forma es matemáticamente más compacta y facilita el análisis.\n",
        "\n",
        "\n",
        "Si la señal es periódica y continua en el tiempo, se utiliza la Serie de Fourier.\n",
        "Si la señal es aperiódica y continua en el tiempo, se utiliza la Transformada de Fourier.\n",
        "Si la señal es aperiódica y discreta en el tiempo, se utiliza la Transformada de Fourier en Tiempo Discreto (DTFT)."
      ],
      "metadata": {
        "id": "sJfYConeO2NB"
      }
    }
  ]
}